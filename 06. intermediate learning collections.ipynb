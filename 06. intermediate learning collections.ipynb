{
 "metadata": {
  "language_info": {
   "codemirror_mode": {
    "name": "ipython",
    "version": 3
   },
   "file_extension": ".py",
   "mimetype": "text/x-python",
   "name": "python",
   "nbconvert_exporter": "python",
   "pygments_lexer": "ipython3",
   "version": "3.8.0"
  },
  "orig_nbformat": 2,
  "kernelspec": {
   "name": "python380jvsc74a57bd02fa617a35824ebf3cdda57a5f51b1bae8dabb4c113331f9087f830c93348a51c",
   "display_name": "Python 3.8.0 64-bit"
  }
 },
 "nbformat": 4,
 "nbformat_minor": 2,
 "cells": [
  {
   "cell_type": "code",
   "execution_count": 6,
   "metadata": {},
   "outputs": [
    {
     "output_type": "stream",
     "name": "stdout",
     "text": [
      "Counter({'d': 7, 'a': 4, 'b': 4, 'c': 4, ' ': 3})\ndict_items([('a', 4), (' ', 3), ('b', 4), ('c', 4), ('d', 7)])\ndict_keys(['a', ' ', 'b', 'c', 'd'])\ndict_values([4, 3, 4, 4, 7])\n[('d', 7), ('a', 4)]\n"
     ]
    }
   ],
   "source": [
    "##########################\n",
    "#6.\n",
    "##########################\n",
    "#collection  implement sort of data type with more functionality comapred to tuple, dictionaries and ...\n",
    "#there are 5 main collections which we discuss them here:\n",
    "##########################\n",
    "#6.1 counter\n",
    "\n",
    "#it helps us to count for example how many likes does the post have, or in a text a value, or element has repeated?\n",
    "##########################\n",
    "#to load we should import it:\n",
    "from collections import Counter\n",
    "#counter is a container that stores elements as dictinary keys and thier counts as dictionary value.Counter\n",
    "\n",
    "a = \"aaaa bbbb cccc ddddddd\"\n",
    "my_counter = Counter(a)\n",
    "print(my_counter)\n",
    "#to take look at items we can use .items command\n",
    "print(my_counter.items())   #to check items\n",
    "print(my_counter.keys()) #to check keys\n",
    "print(my_counter.values()) #to check values\n",
    "\n",
    "#if a counter has so many elements, to defune the most common itesm in it, we use \n",
    "print(my_counter.most_common(2))  #this returns 2 most common elements in he counter"
   ]
  },
  {
   "cell_type": "code",
   "execution_count": 37,
   "metadata": {},
   "outputs": [
    {
     "output_type": "stream",
     "name": "stdout",
     "text": [
      "{'A': 1, 'wonderful': 1, 'serenity': 1, 'has': 1, 'taken': 1, 'possession': 1, 'of': 6, 'my': 4, 'entire': 1, 'soul,': 1, 'like': 2, 'these': 1, 'sweet': 1, 'mornings': 1, 'spring': 1, 'which': 2, 'I': 7, 'enjoy': 1, 'with': 2, 'whole': 1, 'heart.': 1, 'am': 2, 'alone,': 1, 'and': 2, 'feel': 2, 'the': 5, 'charm': 1, 'existence': 1, 'in': 2, 'this': 1, 'spot,': 1, 'was': 2, 'created': 1, 'for': 1, 'bliss': 1, 'souls': 1, 'mine.': 1, 'so': 2, 'happy,': 1, 'dear': 1, 'friend,': 1, 'absorbed': 1, 'exquisite': 1, 'sense': 1, 'mere': 1, 'tranquil': 1, 'existence,': 1, 'that': 2, 'neglect': 1, 'talents.': 1, 'should': 1, 'be': 1, 'incapable': 1, 'drawing': 1, 'a': 2, 'single': 1, 'stroke': 1, 'at': 1, 'present': 1, 'moment;': 1, 'yet': 1, 'never': 1, 'greater': 1, 'artist': 1, 'than': 1, 'now.': 1, 'When,': 1, 'while': 1, 'lovely': 1, 'valley': 1, 'teems': 1}\n"
     ]
    }
   ],
   "source": [
    "#lets try a test which has a long length and see what we can do with it?\n",
    "\n",
    "text = \"\"\" A wonderful serenity has taken possession of my entire soul, like these sweet mornings of spring which I enjoy with my whole heart. I am alone, and feel the charm of existence in this spot, which was created for the bliss of souls like mine. I am so happy, my dear friend, so absorbed in the exquisite sense of mere tranquil existence, that I neglect my talents. I should be incapable of drawing a single stroke at the present moment; and yet I feel that I never was a greater artist than now. When, while the lovely valley teems with\n",
    "\"\"\"\n",
    "\n",
    "###################\n",
    "# to remember= https://www.mongard.ir/one_part/19/counting-frequencies-python/\n",
    "\n",
    "\n",
    "#if generally we want to know how many words are here we should first .split them\n",
    "###################### eleminate # first to run what does the code do###########\n",
    "#words = {}   #create a dictionary first\n",
    "#for i in text.split():\n",
    " #   print(i)\n",
    "################################################################################\n",
    "\n",
    "# now if I want to know how many times a words is repeated I should follow this:\n",
    "\n",
    "words = {}\n",
    "for i in text.split():\n",
    "    if i in words:\n",
    "        words[i] += 1\n",
    "    else:\n",
    "        words[i] = 1\n",
    "print(words)"
   ]
  },
  {
   "cell_type": "code",
   "execution_count": 62,
   "metadata": {},
   "outputs": [
    {
     "output_type": "stream",
     "name": "stdout",
     "text": [
      "Counter({' ': 100, 'e': 65, 't': 37, 's': 34, 'n': 31, 'a': 29, 'i': 27, 'o': 25, 'h': 24, 'r': 21, 'l': 21, 'm': 13, 'w': 12, 'f': 11, 'y': 10, 'd': 9, 'c': 8, 'p': 7, ',': 7, 'I': 7, 'u': 6, 'g': 6, 'b': 5, 'k': 4, '.': 4, 'x': 3, 'v': 3, 'q': 2, 'A': 1, 'j': 1, ';': 1, 'W': 1, '\\n': 1})\nCounter({'I': 7, 'of': 6, 'the': 5, 'my': 4, 'like': 2, 'which': 2, 'with': 2, 'am': 2, 'and': 2, 'feel': 2, 'in': 2, 'was': 2, 'so': 2, 'that': 2, 'a': 2, 'A': 1, 'wonderful': 1, 'serenity': 1, 'has': 1, 'taken': 1, 'possession': 1, 'entire': 1, 'soul,': 1, 'these': 1, 'sweet': 1, 'mornings': 1, 'spring': 1, 'enjoy': 1, 'whole': 1, 'heart.': 1, 'alone,': 1, 'charm': 1, 'existence': 1, 'this': 1, 'spot,': 1, 'created': 1, 'for': 1, 'bliss': 1, 'souls': 1, 'mine.': 1, 'happy,': 1, 'dear': 1, 'friend,': 1, 'absorbed': 1, 'exquisite': 1, 'sense': 1, 'mere': 1, 'tranquil': 1, 'existence,': 1, 'neglect': 1, 'talents.': 1, 'should': 1, 'be': 1, 'incapable': 1, 'drawing': 1, 'single': 1, 'stroke': 1, 'at': 1, 'present': 1, 'moment;': 1, 'yet': 1, 'never': 1, 'greater': 1, 'artist': 1, 'than': 1, 'now.': 1, 'When,': 1, 'while': 1, 'lovely': 1, 'valley': 1, 'teems': 1})\n"
     ]
    }
   ],
   "source": [
    "#the methods above is quite time taking and hard, so we can use Counter\n",
    "\n",
    "count = Counter(text)  #if you want letters\n",
    "print(count)\n",
    "count1 = Counter(text.split()) #to count words\n",
    "print(count1)\n",
    "\n"
   ]
  },
  {
   "cell_type": "code",
   "execution_count": 65,
   "metadata": {},
   "outputs": [
    {
     "output_type": "stream",
     "name": "stdout",
     "text": [
      "Counter({'milk': 1, 'cow': 1, 'rabbit': 1, 'cat': 1, 'football': 1})\nCounter({'milk': 1, 'cow': 1, 'rabbit': 1, 'cat': 1})\n"
     ]
    }
   ],
   "source": [
    "# if we want to delete a count in a list of whatever we use this method:\n",
    "\n",
    "texta = Counter(['milk', 'cow', 'rabbit', 'cat', 'football'])\n",
    "print(texta)\n",
    "del texta['football']\n",
    "#this removes football\n",
    "print(texta)"
   ]
  },
  {
   "cell_type": "code",
   "execution_count": 47,
   "metadata": {},
   "outputs": [
    {
     "output_type": "stream",
     "name": "stdout",
     "text": [
      "0\n"
     ]
    }
   ],
   "source": [
    "# if you ask to know how many of an index is available and if there were nothing, it returns 0\n",
    "\n",
    "text2 = \"hello my name is John\"\n",
    "countst = Counter(text2.split())\n",
    "print(countst[\"Paul\"])  #search has been done by index"
   ]
  },
  {
   "cell_type": "code",
   "execution_count": 71,
   "metadata": {},
   "outputs": [
    {
     "output_type": "execute_result",
     "data": {
      "text/plain": [
       "['1',\n",
       " 'This',\n",
       " 'a',\n",
       " 'and',\n",
       " 'big',\n",
       " 'comments,',\n",
       " 'has',\n",
       " 'is',\n",
       " 'likes,',\n",
       " 'may',\n",
       " 'million',\n",
       " 'more',\n",
       " 'other',\n",
       " 'shares',\n",
       " 'text',\n",
       " 'than',\n",
       " 'which',\n",
       " 'words,']"
      ]
     },
     "metadata": {},
     "execution_count": 71
    }
   ],
   "source": [
    "####   if we want to sort elements of a counter we use sorted(counter.elements())\n",
    "text_new = \"\"\" This is a big text which may has more than 1 million words, comments, likes, shares and other\"\"\"\n",
    "text = Counter(text_new)\n",
    "text2 = Counter(text_new.split())   #to use to counts words not letters\n",
    "sorted(text.elements())\n",
    "sorted(text2.elements())"
   ]
  },
  {
   "cell_type": "code",
   "execution_count": 10,
   "metadata": {},
   "outputs": [
    {
     "output_type": "stream",
     "name": "stdout",
     "text": [
      "[('d', 7)]\n('d', 7)\nd\n"
     ]
    }
   ],
   "source": [
    "print(my_counter.most_common(1)) \n",
    "#this returns a list with tuples\n",
    "\n",
    "#then if I want to access just tuple not list, I add [0] as index\n",
    "print(my_counter.most_common(1)[0]) \n",
    "#And now to access just the element again add [0]\n",
    "print(my_counter.most_common(1)[0][0]) "
   ]
  },
  {
   "cell_type": "code",
   "execution_count": 13,
   "metadata": {},
   "outputs": [
    {
     "output_type": "stream",
     "name": "stdout",
     "text": [
      "['a', 'a', 'a', 'a', ' ', ' ', ' ', 'b', 'b', 'b', 'b', 'c', 'c', 'c', 'c', 'd', 'd', 'd', 'd', 'd', 'd', 'd']\n['a', ' ', 'b', 'c', 'd']\n[4, 3, 4, 4, 7]\n"
     ]
    }
   ],
   "source": [
    "#to change a counter to list follow the command form:\n",
    "print(list(my_counter.elements()))\n",
    "#to return list of keys:\n",
    "print(list(my_counter.keys()))\n",
    "#to returns list of values:\n",
    "print(list(my_counter.values()))"
   ]
  },
  {
   "cell_type": "code",
   "execution_count": 84,
   "metadata": {},
   "outputs": [
    {
     "output_type": "stream",
     "name": "stdout",
     "text": [
      "Counter({'hello': 1, 'is': 1, 'my': 1, 'and': 1, 'I': 1, 'know': 1, 'it': 1, 'this': 0, 'text': 0, 'simple': 0, 'a': -1, 'but': -1, 'not': -1})\ndict_keys(['hello', 'this', 'is', 'my', 'text', 'and', 'I', 'know', 'it', 'simple', 'a', 'but', 'not'])\ndict_values([1, 0, 1, 1, 0, 1, 1, 1, 1, 0, -1, -1, -1])\n"
     ]
    }
   ],
   "source": [
    "#subtract a counter\n",
    "aa = 'hello this is my text and I know it is simple'\n",
    "bb = 'this is a text but not simple'\n",
    "\n",
    "first = Counter(aa.split())\n",
    "second = Counter(bb.split())\n",
    "first.subtract(second)\n",
    "print(first)\n",
    "\n",
    "c = Counter(a=4, b=2, c=0, d=-2)\n",
    "d = Counter(a=1, b=2, c=3, d=4)\n",
    "c.subtract(d)\n",
    "c\n",
    "print(first.keys())\n",
    "print(first.values())"
   ]
  },
  {
   "cell_type": "code",
   "execution_count": 89,
   "metadata": {},
   "outputs": [
    {
     "output_type": "execute_result",
     "data": {
      "text/plain": [
       "Counter({'hello': 1, 'is': 1, 'my': 1, 'and': 1, 'I': 1, 'know': 1, 'it': 1})"
      ]
     },
     "metadata": {},
     "execution_count": 89
    }
   ],
   "source": [
    "#most common actions with Counter\n",
    "sum(first.values())   #returns values of a Counter \n",
    "list(first) #make a list of counter\n",
    "dict(first) #make a dictionary of counter\n",
    "set(first) #make a set of counter\n",
    "first.items() #shows the items of a counter\n",
    "+first #return all counters without negative and zeros\n",
    "first.clear() #clear counter"
   ]
  },
  {
   "cell_type": "code",
   "execution_count": 17,
   "metadata": {},
   "outputs": [
    {
     "output_type": "stream",
     "name": "stdout",
     "text": [
      "person(name='Alex', age=23, city='New York', education='Bachelor')\n"
     ]
    }
   ],
   "source": [
    "##########################\n",
    "#6.2 named tuples\n",
    "#these are tuples which we can use them and later if we need we can easily recall them\n",
    "#the main advantages is we do not need to index the tuple as already was\n",
    "\n",
    "from collections import namedtuple\n",
    "#first give a name to the namedtuple:\n",
    "person = namedtuple('person', 'name age city education')  #usually we give the same name as value\n",
    "############################# in the second part give the items seperated by a space or comma\n",
    "#in the above example we have a tuple named person which name, age, city, and education\n",
    "#in the format above python automatically split the items name, age, city, education into a list\n",
    "\n",
    "\n",
    "#now we can make tuples with this namedtuple:\n",
    "person1 = person('Alex', 23, \"New York\", \"Bachelor\")\n",
    "print(person1)"
   ]
  },
  {
   "cell_type": "code",
   "execution_count": 21,
   "metadata": {},
   "outputs": [
    {
     "output_type": "stream",
     "name": "stdout",
     "text": [
      "Alex\n23\nBachelor\n23\n"
     ]
    }
   ],
   "source": [
    "#now we can use different methods to call it:\n",
    "print(person1[0])  #call with index\n",
    "print(person1[1])\n",
    "print(person1.education)\n",
    "print(person1.age)"
   ]
  },
  {
   "cell_type": "code",
   "execution_count": 27,
   "metadata": {},
   "outputs": [
    {
     "output_type": "stream",
     "name": "stdout",
     "text": [
      "Alex\n23\nNew York\n"
     ]
    }
   ],
   "source": [
    "#another way is to use getattr() menas get attribute\n",
    "print(getattr(person1, \"name\"))\n",
    "print(getattr(person1, 'age'))\n",
    "print(getattr(person1, 'city'))"
   ]
  },
  {
   "cell_type": "code",
   "execution_count": 29,
   "metadata": {},
   "outputs": [
    {
     "output_type": "stream",
     "name": "stdout",
     "text": [
      "{'name': 'Alex', 'age': 23, 'city': 'New York', 'education': 'Bachelor'}\n"
     ]
    }
   ],
   "source": [
    "#if you want to see a namedtuple as a dictionary use _asdict\n",
    "print(person1._asdict())\n",
    "#this return your namedtuple as a dictionary"
   ]
  },
  {
   "cell_type": "code",
   "execution_count": 30,
   "metadata": {},
   "outputs": [
    {
     "output_type": "stream",
     "name": "stdout",
     "text": [
      "('name', 'age', 'city', 'education')\n"
     ]
    }
   ],
   "source": [
    "#if we want to know the fields in a namedtuple use _fields\n",
    "print(person1._fields)"
   ]
  },
  {
   "cell_type": "code",
   "execution_count": 32,
   "metadata": {},
   "outputs": [
    {
     "output_type": "stream",
     "name": "stdout",
     "text": [
      "person(name='Paul', age=23, city='New York', education='Bachelor')\n"
     ]
    }
   ],
   "source": [
    "#if we want to replace a value of an element, use _replace()\n",
    "#############################################################\n",
    "## tuples can not be changes but namedtuples can be changed##\n",
    "#############################################################\n",
    "\n",
    "person1 = person1._replace(name = \"Paul\")\n",
    "#now the name changes from Alex to Paul\n",
    "print(person1)"
   ]
  },
  {
   "cell_type": "code",
   "execution_count": 33,
   "metadata": {},
   "outputs": [
    {
     "output_type": "stream",
     "name": "stdout",
     "text": [
      "person(name='Paul', age=32, city='New York', education='Bachelor')\n"
     ]
    }
   ],
   "source": [
    "#if we want to change more than one element, just add the element after comma\n",
    "person1 = person1._replace(name = \"Paul\", age = 32) \n",
    "#now the name changes from Alex to Paul\n",
    "print(person1)"
   ]
  },
  {
   "cell_type": "code",
   "execution_count": 34,
   "metadata": {},
   "outputs": [
    {
     "output_type": "stream",
     "name": "stdout",
     "text": [
      "person(name='Mary', age=42, city='Boston', education='Masters')\n"
     ]
    }
   ],
   "source": [
    "#to change a list to a namedtuple we use _make() command\n",
    "\n",
    "lista = [\"Mary\", 42, \"Boston\", 'Masters']\n",
    "\n",
    "#now I can easily assign this to the new namedtuple and enjoy using it\n",
    "\n",
    "person2 = person._make(lista)   #I use person because we already defined namedtuple as person\n",
    "print(person2)\n",
    "#now all new variables are added to a new namedtuple"
   ]
  },
  {
   "cell_type": "code",
   "execution_count": 35,
   "metadata": {},
   "outputs": [
    {
     "output_type": "stream",
     "name": "stdout",
     "text": [
      "person(name='Emillia', age=54, city='Phoenix', education='Ph.D.')\n"
     ]
    }
   ],
   "source": [
    "#if I already have a dictionary same as namedtuple , I can easily assigned it to a nametuple by using (**X) which X is the name of dictionary\n",
    "\n",
    "my_dict = {\"name\": \"Emillia\", \"age\": 54, \"city\":\"Phoenix\", \"education\": \"Ph.D.\"}\n",
    "\n",
    "person3 = person(**my_dict)\n",
    "\n",
    "print(person3)"
   ]
  },
  {
   "cell_type": "code",
   "execution_count": 3,
   "metadata": {},
   "outputs": [
    {
     "output_type": "stream",
     "name": "stdout",
     "text": [
      "John\nPaul\nViki\nLili\n"
     ]
    }
   ],
   "source": [
    "##########################################################################\n",
    "#####                                                                #####\n",
    "#####                                                                #####\n",
    "#####            Ordered dictionaries (ordereddict)                  #####\n",
    "#####                                                                #####\n",
    "#####                                                                #####\n",
    "##########################################################################\n",
    "\n",
    "#the main problem with normal dictionaries is this that as we want to call them, they do not follow a specific order to be called, \n",
    "#for example:\n",
    "names = {\"John\": 23, \"Paul\": 13, \"Viki\": 14, \"Lili\": 18}\n",
    "for name in names:\n",
    "    print(name)\n",
    "#altuogh now maybe the print shows the same order, but this is not a cofindent way to get this resulst always.\n",
    "#that is why we use OrderedDict command"
   ]
  },
  {
   "cell_type": "code",
   "execution_count": 5,
   "metadata": {},
   "outputs": [
    {
     "output_type": "stream",
     "name": "stdout",
     "text": [
      "OrderedDict([('John', 12), ('Lili', 13), ('Paul', 17), ('Donal', 19)])\n"
     ]
    }
   ],
   "source": [
    "from collections import OrderedDict   #to import OrderedDict\n",
    "\n",
    "names = OrderedDict (John=12, Lili=13, Paul=17, Donal=19)\n",
    "print(names)"
   ]
  },
  {
   "cell_type": "code",
   "execution_count": 17,
   "metadata": {},
   "outputs": [
    {
     "output_type": "stream",
     "name": "stdout",
     "text": [
      "OrderedDict([('p1', 12), ('P2', 12), ('p3', 23), ('p4', 23)])\nOrderedDict([('P2', 12), ('p3', 23), ('p4', 23)])\nOrderedDict([('p3', 23), ('p4', 23)])\n"
     ]
    }
   ],
   "source": [
    "# OrderedDict also has .popitems() command and generally removes the last item\n",
    "\n",
    "testDict = OrderedDict(p1=12, P2=12, p3=23, p4=23)\n",
    "\n",
    "#testDict.popitem()  #this eleminae p4 = 23\n",
    "print(testDict)\n",
    "\n",
    "#by default in .popitem() always looks like .popitems(last= True), if I change it to (last=False) the the first item will be eleminated\n",
    "testDict.popitem(last=False)\n",
    "print(testDict)\n",
    "\n",
    "#to eleminate specific item we use .pop(key)\n",
    "testDict.pop('P2')\n",
    "print(testDict)"
   ]
  },
  {
   "cell_type": "code",
   "execution_count": 13,
   "metadata": {},
   "outputs": [
    {
     "output_type": "stream",
     "name": "stdout",
     "text": [
      "OrderedDict([('E', 5), ('B', 2), ('C', 3), ('D', 4), ('A', 1)])\n"
     ]
    }
   ],
   "source": [
    "#OrderedDict has a move to end command which by default is last=True, which point a key value to the end of the dictionaries, \n",
    "\n",
    "keyDic = OrderedDict(A=1, B=2, C=3, D=4, E=5)\n",
    "keyDic.move_to_end('E', last = False)\n",
    "keyDic.move_to_end('A')\n",
    "print(keyDic)"
   ]
  },
  {
   "cell_type": "code",
   "execution_count": 15,
   "metadata": {},
   "outputs": [
    {
     "output_type": "stream",
     "name": "stdout",
     "text": [
      "OrderedDict([('E', 5), ('B', 2), ('C', 3), ('D', 4), ('A', 1), ('F', 6)])\n"
     ]
    }
   ],
   "source": [
    "#New values to orderedDict always set to be the last item\n",
    "keyDic['F'] = 6   #this add F=6 at the last item\n",
    "print(keyDic)"
   ]
  },
  {
   "cell_type": "code",
   "execution_count": 16,
   "metadata": {},
   "outputs": [
    {
     "output_type": "stream",
     "name": "stdout",
     "text": [
      "OrderedDict([('E', 5), ('B', 2), ('C', 3), ('D', 4), ('A', 7), ('F', 6)])\n"
     ]
    }
   ],
   "source": [
    "#if we change value of a key, this does not change the place of the key\n",
    "keyDic['A'] = 7\n",
    "print(keyDic)"
   ]
  },
  {
   "cell_type": "code",
   "execution_count": 18,
   "metadata": {},
   "outputs": [
    {
     "output_type": "stream",
     "name": "stdout",
     "text": [
      "defaultdict(<class 'int'>, {'a': 1, 'b': 2, 'c': 3, 'd': 4, 'e': 5})\n"
     ]
    }
   ],
   "source": [
    "#############################################################\n",
    "##                   DefaultDict                           ##\n",
    "#############################################################\n",
    "# in general form , dictionary does not have default value and if you want to print or call a key which is not exist, then you have keyError\n",
    "#by using defaultdictionary, we can define if a key vale does not exist, returns a default value for us.import\n",
    "\n",
    "from collections import defaultdict\n",
    "d = defaultdict(int)\n",
    "\n",
    "d['a'] = 1\n",
    "d['b'] = 2\n",
    "d['c'] = 3\n",
    "d['d'] = 4\n",
    "d['e'] = 5\n",
    "\n",
    "print(d)"
   ]
  },
  {
   "cell_type": "code",
   "execution_count": 19,
   "metadata": {},
   "outputs": [
    {
     "output_type": "stream",
     "name": "stdout",
     "text": [
      "3\n"
     ]
    }
   ],
   "source": [
    "print(d['c'])\n"
   ]
  },
  {
   "cell_type": "code",
   "execution_count": 20,
   "metadata": {},
   "outputs": [
    {
     "output_type": "stream",
     "name": "stdout",
     "text": [
      "0\n"
     ]
    }
   ],
   "source": [
    "print(d['f'])  #generally this does not exist in our dictionary, should be KeyError, but because it is DefaultDic it returns an int which is 0\n"
   ]
  },
  {
   "cell_type": "code",
   "execution_count": 21,
   "metadata": {},
   "outputs": [
    {
     "output_type": "stream",
     "name": "stdout",
     "text": [
      "0.0\n"
     ]
    }
   ],
   "source": [
    "#lets try a float number\n",
    "\n",
    "d = defaultdict(float)\n",
    "\n",
    "d['a'] = 1\n",
    "d['b'] = 2\n",
    "d['c'] = 3\n",
    "d['d'] = 4\n",
    "d['e'] = 5\n",
    "\n",
    "print(d['f'])"
   ]
  },
  {
   "cell_type": "code",
   "execution_count": 22,
   "metadata": {},
   "outputs": [
    {
     "output_type": "stream",
     "name": "stdout",
     "text": [
      "[]\n"
     ]
    }
   ],
   "source": [
    "#lets try a list\n",
    "d = defaultdict(list)\n",
    "\n",
    "d['a'] = 1\n",
    "d['b'] = 2\n",
    "d['c'] = 3\n",
    "d['d'] = 4\n",
    "d['e'] = 5\n",
    "\n",
    "print(d['f'])"
   ]
  },
  {
   "cell_type": "code",
   "execution_count": 23,
   "metadata": {},
   "outputs": [
    {
     "output_type": "stream",
     "name": "stdout",
     "text": [
      "\n"
     ]
    }
   ],
   "source": [
    "#lets try a string\n",
    "\n",
    "d = defaultdict(str)\n",
    "\n",
    "d['a'] = 1\n",
    "d['b'] = 2\n",
    "d['c'] = 3\n",
    "d['d'] = 4\n",
    "d['e'] = 5\n",
    "\n",
    "print(d['f'])  #this does not return specific item"
   ]
  },
  {
   "cell_type": "code",
   "execution_count": 24,
   "metadata": {},
   "outputs": [
    {
     "output_type": "stream",
     "name": "stdout",
     "text": [
      "{}\n"
     ]
    }
   ],
   "source": [
    "#lets try a dict \n",
    "\n",
    "d = defaultdict(dict)\n",
    "\n",
    "d['a'] = 1\n",
    "d['b'] = 2\n",
    "d['c'] = 3\n",
    "d['d'] = 4\n",
    "d['e'] = 5\n",
    "\n",
    "print(d['f'])"
   ]
  },
  {
   "cell_type": "code",
   "execution_count": 26,
   "metadata": {},
   "outputs": [
    {
     "output_type": "stream",
     "name": "stdout",
     "text": [
      "[1, 2, 3, 4, 5]\n[1, 2, 3, 4, 5, 6]\n[1, 2, 3, 4, 5]\n"
     ]
    }
   ],
   "source": [
    "#############################################################\n",
    "##                          deques                         ##\n",
    "#############################################################\n",
    "#deque is list-like form which can be edited in both side, which lists are not allowed to change in both left and right side\n",
    "#deque meand double ended que means you can add from both sides\n",
    "\n",
    "list1 = [1, 2, 3, 4, 5]\n",
    "print(list1)\n",
    "#this is a normal list which if I add anything, it goes to the end\n",
    "list1.append(6)\n",
    "print(list1)\n",
    "print\n",
    "\n",
    "#if I remove an item, it removes from the last\n",
    "list1.pop()\n",
    "print(list1)"
   ]
  },
  {
   "cell_type": "code",
   "execution_count": 33,
   "metadata": {},
   "outputs": [
    {
     "output_type": "stream",
     "name": "stdout",
     "text": [
      "deque(['P', 'p', 'y', 't', 't', 'h', 'o', '0', '0', 'n', 'n', 'n', 'n', 'n'])\n5\ndeque(['P', 'p', 'y', 't', 't', 'h', 'o', '0', '0', 'n', 'n', 'n', 'n', 'n', 1, 2, 3, 4, 5, 6, 7])\ndeque([7, 6, 5, 4, 3, 2, 1, 'P', 'p', 'y', 't', 't', 'h', 'o', '0', '0', 'n', 'n', 'n', 'n', 'n', 1, 2, 3, 4, 5, 6, 7])\n"
     ]
    }
   ],
   "source": [
    "from collections import deque\n",
    "\n",
    "e = deque ('Ppyttho00nnnnn')\n",
    "print(e)\n",
    "print(e.count('n'))  #returns count of n in the list\n",
    "\n",
    "#.extend gets another iterable (NOTE: numbers are not iterable)\n",
    "numbers = [1, 2, 3, 4, 5, 6, 7]   #this is a list of numbers not an iterable number\n",
    "e.extend(numbers)\n",
    "print(e)\n",
    "#if we want to extend by left side:\n",
    "e.extendleft(numbers)\n",
    "print(e)"
   ]
  },
  {
   "cell_type": "code",
   "execution_count": 34,
   "metadata": {},
   "outputs": [
    {
     "output_type": "stream",
     "name": "stdout",
     "text": [
      "deque([6, 5, 4, 3, 2, 1, 'P', 'p', 'y', 't', 't', 'h', 'o', '0', '0', 'n', 'n', 'n', 'n', 'n', 1, 2, 3, 4, 5, 6])\n"
     ]
    }
   ],
   "source": [
    "#to remove from the last element use .pop() and want to remove an element from left side use .popleft\n",
    "e.pop()\n",
    "e.popleft()\n",
    "print(e)"
   ]
  },
  {
   "cell_type": "code",
   "execution_count": 47,
   "metadata": {},
   "outputs": [
    {
     "output_type": "stream",
     "name": "stdout",
     "text": [
      "deque([4, 3, 2, 'P', 'y', 't', 't', 'h', 'o', '0', '0', 'n', 'n', 'n', 'n', 'n', 1, 2, 3, 4])\n"
     ]
    }
   ],
   "source": [
    "#to remove an element use .remove()\n",
    "e.remove(1)\n",
    "e.remove('p')\n",
    "print(e)"
   ]
  },
  {
   "cell_type": "code",
   "execution_count": 48,
   "metadata": {},
   "outputs": [
    {
     "output_type": "stream",
     "name": "stdout",
     "text": [
      "deque([4, 3, 2, 1, 'n', 'n', 'n', 'n', 'n', '0', '0', 'o', 'h', 't', 't', 'y', 'P', 2, 3, 4])\n"
     ]
    }
   ],
   "source": [
    "#reverse() is reveser the list\n",
    "e.reverse()\n",
    "print(e)"
   ]
  },
  {
   "cell_type": "code",
   "execution_count": 58,
   "metadata": {},
   "outputs": [
    {
     "output_type": "stream",
     "name": "stdout",
     "text": [
      "deque(['A', 'B', 'C', 'D'])\ndeque(['D', 'A', 'B', 'C'])\ndeque(['A', 'B', 'C', 'D'])\n"
     ]
    }
   ],
   "source": [
    "# .rotate(X) which X is a number, this menas that in the list as X is any number, that much will come to the first:\n",
    "\n",
    "f = deque ('ABCD')\n",
    "print(f)\n",
    "f.rotate(1)\n",
    "print(f)\n",
    "\n",
    "\n",
    "#rotate in negative form (-1) sends 1 from the first to the end\n",
    "f.rotate(-1)\n",
    "print(f)"
   ]
  },
  {
   "cell_type": "code",
   "execution_count": 62,
   "metadata": {},
   "outputs": [
    {
     "output_type": "stream",
     "name": "stdout",
     "text": [
      "deque(['A', 'B', 'C', 'D', 'E', 'F'], maxlen=7)\ndeque(['A', 'B', 'C', 'D', 'E', 'F', 'G'], maxlen=7)\ndeque(['B', 'C', 'D', 'E', 'F', 'G', 'H'], maxlen=7)\ndeque(['I', 'B', 'C', 'D', 'E', 'F', 'G'], maxlen=7)\n"
     ]
    }
   ],
   "source": [
    "# if we want that our list has number a max number, by adding more elements by that max, one from the first will be removed and new element will be replaces.defaultdict\n",
    "#to do this we use maxlen =x (x is number)\n",
    "g = deque(\"ABCDEF\", maxlen=7)  #here we defined that we have maximum 7 numbers\n",
    "print(g)\n",
    "\n",
    "#I want to add more elements:\n",
    "g.append('G')   #still we have reach max which is 7\n",
    "print(g)\n",
    "\n",
    "#now let's exceed 7\n",
    "g.append('H')\n",
    "print(g)\n",
    "#now list is printed but because it is more than 7, so 'A' at first will be removed and \"h\" will be added.deque\n",
    "\n",
    "#AS this is a deque, we can add by left\n",
    "g.appendleft(\"I\")\n",
    "print(g)\n",
    "#this remove one from the END, add one to the first"
   ]
  },
  {
   "cell_type": "code",
   "execution_count": 64,
   "metadata": {},
   "outputs": [
    {
     "output_type": "stream",
     "name": "stdout",
     "text": [
      "deque([], maxlen=7)\n"
     ]
    }
   ],
   "source": [
    "#deque can be cleared easily by .clear() \n",
    "g.clear()\n",
    "print(g)"
   ]
  },
  {
   "cell_type": "code",
   "execution_count": null,
   "metadata": {},
   "outputs": [],
   "source": []
  }
 ]
}