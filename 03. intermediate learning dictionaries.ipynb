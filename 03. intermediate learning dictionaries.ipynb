{
 "metadata": {
  "language_info": {
   "codemirror_mode": {
    "name": "ipython",
    "version": 3
   },
   "file_extension": ".py",
   "mimetype": "text/x-python",
   "name": "python",
   "nbconvert_exporter": "python",
   "pygments_lexer": "ipython3",
   "version": "3.9.5"
  },
  "orig_nbformat": 2,
  "kernelspec": {
   "name": "python395jvsc74a57bd0b207607561fa681ca4dbf3d80d4258979eef238f02990d237a8978014fbfa7b7",
   "display_name": "Python 3.9.5 64-bit"
  }
 },
 "nbformat": 4,
 "nbformat_minor": 2,
 "cells": [
  {
   "cell_type": "code",
   "execution_count": null,
   "metadata": {},
   "outputs": [],
   "source": [
    "#dictionaries"
   ]
  },
  {
   "cell_type": "code",
   "execution_count": 2,
   "metadata": {},
   "outputs": [
    {
     "output_type": "stream",
     "name": "stdout",
     "text": [
      "{'name': 'Max', 'age': 28, 'City': 'New York'}\n"
     ]
    }
   ],
   "source": [
    "#thye are key value pairs, unorderedm and Mutable*(changable)\n",
    "#1. to create a dictionary follow the format by string:value or element:value in {}\n",
    "\n",
    "mydict = {\"name\": \"Max\", \"age\": 28, \"City\": \"New York\"}\n",
    "print(mydict)"
   ]
  },
  {
   "cell_type": "code",
   "execution_count": 5,
   "metadata": {},
   "outputs": [
    {
     "output_type": "stream",
     "name": "stdout",
     "text": [
      "{'name': 'Eithan', 'age': 31, 'city': 'EkB'}\n"
     ]
    }
   ],
   "source": [
    "#2. also we can use dict function as below:\n",
    "mydict2 = dict(name=\"Eithan\", age=31, city=\"EkB\")\n",
    "print(mydict2)"
   ]
  },
  {
   "cell_type": "code",
   "execution_count": 8,
   "metadata": {},
   "outputs": [
    {
     "output_type": "stream",
     "name": "stdout",
     "text": [
      "31\n"
     ]
    }
   ],
   "source": [
    "#3. to access a value just define it and print it like this:\n",
    "value = mydict2[\"age\"]\n",
    "print(value)"
   ]
  },
  {
   "cell_type": "code",
   "execution_count": 9,
   "metadata": {},
   "outputs": [
    {
     "output_type": "stream",
     "name": "stdout",
     "text": [
      "{'name': 'Eithan', 'age': 31, 'city': 'EkB', 'Email': 'eithan@eith.ei'}\n"
     ]
    }
   ],
   "source": [
    "#4. dictionary is mutable, so easily you can add new elements into it\n",
    "mydict2[\"Email\"] = \"eithan@eith.ei\"\n",
    "print(mydict2)"
   ]
  },
  {
   "cell_type": "code",
   "execution_count": 10,
   "metadata": {},
   "outputs": [
    {
     "output_type": "stream",
     "name": "stdout",
     "text": [
      "{'name': 'Eithan', 'age': 31, 'city': 'EkB', 'Email': 'New_eithan@eith.ei'}\n"
     ]
    }
   ],
   "source": [
    "#4.1. if we add new element which is already exist, it will be overwrite again:\n",
    "mydict2[\"Email\"] = \"New_eithan@eith.ei\"\n",
    "print(mydict2)"
   ]
  },
  {
   "cell_type": "code",
   "execution_count": 12,
   "metadata": {},
   "outputs": [
    {
     "output_type": "stream",
     "name": "stdout",
     "text": [
      "{'name': 'Eithan', 'age': 31, 'city': 'EkB'}\n"
     ]
    }
   ],
   "source": [
    "#5. to delete an item:\n",
    "#5.1.  using del dictionaryname[\"key\"]\n",
    "del mydict2[\"Email\"]\n",
    "print(mydict2)"
   ]
  },
  {
   "cell_type": "code",
   "execution_count": 13,
   "metadata": {},
   "outputs": [
    {
     "output_type": "stream",
     "name": "stdout",
     "text": [
      "{'name': 'Eithan', 'city': 'EkB'}\n"
     ]
    }
   ],
   "source": [
    "#5.2. by using dictionaryname.pop(key)\n",
    "mydict2.pop(\"age\")\n",
    "print(mydict2)"
   ]
  },
  {
   "cell_type": "code",
   "execution_count": 14,
   "metadata": {},
   "outputs": [
    {
     "output_type": "stream",
     "name": "stdout",
     "text": [
      "{'name': 'Eithan'}\n"
     ]
    }
   ],
   "source": [
    "#5.3. for python 3.7 and later we can use dictitonaryname.popitem() and it deleted the last item\n",
    "mydict2.popitem()\n",
    "print(mydict2)"
   ]
  },
  {
   "cell_type": "code",
   "execution_count": 16,
   "metadata": {},
   "outputs": [
    {
     "output_type": "stream",
     "name": "stdout",
     "text": [
      "Eithan\n"
     ]
    }
   ],
   "source": [
    "#6. to check if a key is in a dictionary:\n",
    "#6.1. using if statement as always\n",
    "mydict3 = dict(name=\"Eithan\", age=31, city=\"EkB\")\n",
    "if \"name\" in mydict3:\n",
    "    print(mydict3[\"name\"])"
   ]
  },
  {
   "cell_type": "code",
   "execution_count": 17,
   "metadata": {},
   "outputs": [
    {
     "output_type": "stream",
     "name": "stdout",
     "text": [
      "Eithan\n"
     ]
    }
   ],
   "source": [
    "#6.2. we can use try - except statement like this:\n",
    "try:\n",
    "    print(mydict3[\"name\"])\n",
    "except:\n",
    "    print(\"Error\")\n"
   ]
  },
  {
   "cell_type": "code",
   "execution_count": 18,
   "metadata": {},
   "outputs": [
    {
     "output_type": "stream",
     "name": "stdout",
     "text": [
      "Error\n"
     ]
    }
   ],
   "source": [
    "try:\n",
    "    print(mydict3[\"lastname\"])\n",
    "except:\n",
    "    print(\"Error\")"
   ]
  },
  {
   "cell_type": "code",
   "execution_count": 10,
   "metadata": {},
   "outputs": [
    {
     "output_type": "stream",
     "name": "stdout",
     "text": [
      "{'name': 'Eithan', 'age': 26, 'city': 'New York'}\n{'name': 'Eithan', 'age': 26, 'city': 'London'}\n"
     ]
    }
   ],
   "source": [
    "#7. copy a dictionary\\\n",
    "dict_org = {\"name\" :\"Eithan\", \"age\" :26, \"city\": \"London\"}\n",
    "dict_cpy = dict_org.copy()\n",
    "#print(dict_cpy)\n",
    "#now if I change copy or original one, changes does not apply vice versa\n",
    "dict_cpy[\"city\"] = \"New York\"\n",
    "print(dict_cpy)\n",
    "print(dict_org)"
   ]
  },
  {
   "cell_type": "code",
   "execution_count": 21,
   "metadata": {},
   "outputs": [
    {
     "output_type": "stream",
     "name": "stdout",
     "text": [
      "without changing\n{'name': 'John', 'age': 22}\n{'name': 'John', 'age': 22}\n#after a change\n{'name': 'John', 'age': 23}\n{'name': 'John', 'age': 23}\n#as it can be seen, any changes in this format, causes change to both dict forms\n"
     ]
    }
   ],
   "source": [
    " ##############################################################\n",
    " # if we use dict_cpy = dict_org, then any changes to anyone, cause changes to other too\n",
    " ##############################################################\n",
    " dict1_org = {\"name\": \"John\", \"age\": 22}\n",
    " dict1_cpy = dict1_org\n",
    " print('without changing')\n",
    " print(dict1_cpy)\n",
    " print(dict1_org)\n",
    " #now lets do a change\n",
    " dict1_cpy[\"age\"] = 23\n",
    " print('#after a change')\n",
    " print(dict1_cpy)\n",
    " print(dict1_org)\n",
    " print('#as it can be seen, any changes in this format, causes change to both dict forms')"
   ]
  },
  {
   "cell_type": "code",
   "execution_count": 23,
   "metadata": {},
   "outputs": [
    {
     "output_type": "stream",
     "name": "stdout",
     "text": [
      "{'age': 32, 'name': 'John'}\n"
     ]
    }
   ],
   "source": [
    "#7.1. another method of copying is using dict function and give the original as argument to the function\n",
    "dict_org_a = {\"age\": 32, \"name\": \"John\"}\n",
    "dict_cpy_a = dict(dict_org_a)  #now this is an original copy and you can use it as you wish to change or modify\n",
    "print(dict_cpy_a) "
   ]
  },
  {
   "cell_type": "code",
   "execution_count": 25,
   "metadata": {},
   "outputs": [
    {
     "output_type": "stream",
     "name": "stdout",
     "text": [
      "{'name': 'Mary', 'age': 24, 'city': 'Boston', 'email': 'nomail@mail.com'}\n"
     ]
    }
   ],
   "source": [
    "#8. merge two dictionaries:\n",
    "#can be done by using .update() command\n",
    "dic1_1 = {\"name\": \"John\", \"age\": 23, \"city\":\"Boston\"}\n",
    "dic1_2 = dict(name = \"Mary\", age = 24, email='nomail@mail.com')\n",
    "\n",
    "dic1_1.update(dic1_2)       #all exisiting data are updated with new data and new value also added to former data\n",
    "print(dic1_1) "
   ]
  },
  {
   "cell_type": "code",
   "execution_count": 28,
   "metadata": {},
   "outputs": [
    {
     "output_type": "stream",
     "name": "stdout",
     "text": [
      "{12: 24, 13: 26, 14: 28, 15: 30}\n28\n30\n"
     ]
    }
   ],
   "source": [
    "#9. using dict with other keys\n",
    "#dict can be used with anykind of other keys, such as int, tuple, ...print\n",
    "my_dict = {12: 24, 13:26, 14:28, 15:30}\n",
    "print(my_dict)\n",
    "\n",
    "#now if you want to value any of these keys, BE CAREFUL! you can not use index, you have to mention exact key\n",
    "value_check = my_dict[14]\n",
    "value_check1 = my_dict[15]\n",
    "print(value_check)\n",
    "print(value_check1)"
   ]
  },
  {
   "cell_type": "code",
   "execution_count": 29,
   "metadata": {},
   "outputs": [
    {
     "output_type": "stream",
     "name": "stdout",
     "text": [
      "{(6, 3): 'tuple'}\n"
     ]
    }
   ],
   "source": [
    "#create dictionary with tuple\n",
    "mytuple = (6, 3)\n",
    "mydict = {mytuple : \"tuple\"}\n",
    "print(mydict)"
   ]
  },
  {
   "cell_type": "code",
   "execution_count": null,
   "metadata": {},
   "outputs": [],
   "source": [
    "#WE can not USE list!"
   ]
  }
 ]
}