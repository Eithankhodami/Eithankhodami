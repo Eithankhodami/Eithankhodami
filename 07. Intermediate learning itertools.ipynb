{
 "metadata": {
  "language_info": {
   "codemirror_mode": {
    "name": "ipython",
    "version": 3
   },
   "file_extension": ".py",
   "mimetype": "text/x-python",
   "name": "python",
   "nbconvert_exporter": "python",
   "pygments_lexer": "ipython3",
   "version": "3.8.0"
  },
  "orig_nbformat": 2,
  "kernelspec": {
   "name": "python3",
   "display_name": "Python 3.8.0 64-bit"
  },
  "interpreter": {
   "hash": "2fa617a35824ebf3cdda57a5f51b1bae8dabb4c113331f9087f830c93348a51c"
  }
 },
 "nbformat": 4,
 "nbformat_minor": 2,
 "cells": [
  {
   "cell_type": "code",
   "execution_count": 5,
   "metadata": {},
   "outputs": [
    {
     "output_type": "stream",
     "name": "stdout",
     "text": [
      "[(1, 2, 3), (1, 3, 2), (2, 1, 3), (2, 3, 1), (3, 1, 2), (3, 2, 1)]\n[(1, 2), (1, 3), (2, 1), (2, 3), (3, 1), (3, 2)]\n"
     ]
    }
   ],
   "source": [
    "#################################### 7 Itertools ####################################\n",
    "\n",
    "## 7.1. permutation\n",
    "#returns all possible orders of a list\n",
    "\n",
    "from itertools import permutations\n",
    "a = [1, 2, 3]\n",
    "perm = permutations(a)\n",
    "print(list(perm))\n",
    "\n",
    "\n",
    "#we can define length of permutations by adding it to the code:\n",
    "perm = permutations(a, 2)  #2 is the number of needed permutation\n",
    "print(list(perm))"
   ]
  },
  {
   "cell_type": "code",
   "execution_count": 7,
   "metadata": {},
   "outputs": [
    {
     "output_type": "stream",
     "name": "stdout",
     "text": [
      "[('a', 'b', 'c'), ('a', 'b', 'd'), ('a', 'c', 'd'), ('b', 'c', 'd')]\n"
     ]
    }
   ],
   "source": [
    "#combinations, gives us the possible combination of a list\n",
    "from itertools  import combinations\n",
    "b = ['a', 'b', 'c', 'd']\n",
    "comb = combinations(b, 3) ##it is neccessary to give the limit of combination in number, here we added 3\n",
    "print(list(comb))\n",
    "#############THIS combinatin is without replacement"
   ]
  },
  {
   "cell_type": "code",
   "execution_count": 8,
   "metadata": {},
   "outputs": [
    {
     "output_type": "stream",
     "name": "stdout",
     "text": [
      "[(1, 1), (1, 2), (1, 3), (2, 2), (2, 3), (3, 3)]\n"
     ]
    }
   ],
   "source": [
    "#if we want combination with replacement, we need to use combination_with_replacement\n",
    "\n",
    "from itertools import combinations_with_replacement\n",
    "c = [1, 2, 3]\n",
    "comb_wr = combinations_with_replacement (c, 2)\n",
    "print(list(comb_wr))"
   ]
  },
  {
   "cell_type": "code",
   "execution_count": 11,
   "metadata": {},
   "outputs": [
    {
     "output_type": "stream",
     "name": "stdout",
     "text": [
      "[1, 3, 6, 10]\n"
     ]
    }
   ],
   "source": [
    "#########################################################\n",
    "# accumulate\n",
    "\n",
    "#in general returns accumulation of a list\n",
    "\n",
    "from itertools import accumulate\n",
    "a = [1, 2, 3, 4]\n",
    "acc = accumulate (a)\n",
    "#this calculate 1, 1+2. 1+2+3, 1+2+3+4\n",
    "print(list(acc))\n"
   ]
  },
  {
   "cell_type": "code",
   "execution_count": 14,
   "metadata": {},
   "outputs": [
    {
     "output_type": "stream",
     "name": "stdout",
     "text": [
      "[1, 2, 6, 24]\n[1, 2, 3, 5, 6, 6]\n"
     ]
    }
   ],
   "source": [
    "#if we want to multiply it also we can do more:\n",
    "from itertools import accumulate\n",
    "import operator\n",
    "a = [1, 2, 3, 4]\n",
    "acc = accumulate(a, func=operator.mul)\n",
    "# this returns 1*1, 1*2, 1*2*3, 1*2*3*4\n",
    "print(list(acc))\n",
    "\n",
    "#if we want to see which one is the maximum, we use func=max\n",
    "\n",
    "m = [1, 2, 3, 5, 6, 4]\n",
    "acc1 = accumulate(m, func=max)\n",
    "print(list(acc1))\n",
    "#in the first until 6, the number is max, but after 6, numbers are lower than 6, so that shows 6 as max for each value of the list"
   ]
  },
  {
   "source": [
    "GroupBy function"
   ],
   "cell_type": "markdown",
   "metadata": {}
  },
  {
   "source": [
    "makes an itterated group which returns a key"
   ],
   "cell_type": "markdown",
   "metadata": {}
  },
  {
   "cell_type": "code",
   "execution_count": 4,
   "metadata": {},
   "outputs": [
    {
     "output_type": "stream",
     "name": "stdout",
     "text": [
      "True [1, 2]\nFalse [3, 4]\n"
     ]
    }
   ],
   "source": [
    "from itertools import groupby\n",
    " \n",
    "a = [1, 2, 3, 4]\n",
    "\n",
    "def smaller_than_3(x):\n",
    "    return x <3\n",
    "\n",
    "group_obj = groupby(a, key=smaller_than_3)\n",
    "for key, value in group_obj:\n",
    "    print(key, list(value))\n",
    "    #this reutrns for less than 3 > True\n",
    "    #             for more than 3 < Flase"
   ]
  },
  {
   "cell_type": "code",
   "execution_count": 5,
   "metadata": {},
   "outputs": [
    {
     "output_type": "stream",
     "name": "stdout",
     "text": [
      "True [1, 2]\nFalse [3, 4]\n"
     ]
    }
   ],
   "source": [
    "##lambda is a one line code which has an input, do some expression and returns a result\n",
    "\n",
    "a = [1, 2, 3, 4]\n",
    "groupby_objj = groupby (a, key=lambda x: x<3)\n",
    "#this function returns exactly the same as we did on the top one\n",
    "for key, value in groupby_objj:\n",
    "    print(key, list(value))"
   ]
  },
  {
   "cell_type": "code",
   "execution_count": 7,
   "metadata": {},
   "outputs": [
    {
     "output_type": "stream",
     "name": "stdout",
     "text": [
      "25 [{'name': 'Tim', 'age': 25}, {'name': 'John', 'age': 25}]\n18 [{'name': 'Lisa', 'age': 18}]\n25 [{'name': 'Julia', 'age': 25}]\n"
     ]
    }
   ],
   "source": [
    "#lets try another example to make this better to understand:\n",
    "from itertools import groupby\n",
    "\n",
    "people = [{'name': 'Tim', 'age': 25}, {'name': 'John', 'age': 25}, {'name': 'Lisa', 'age': 18}, {'name': 'Julia', 'age': 25}]\n",
    "\n",
    "group_people = groupby(people, key = lambda x: x['age'])\n",
    "for key, value in group_people:\n",
    "    print(key, list(value))"
   ]
  },
  {
   "cell_type": "code",
   "execution_count": 11,
   "metadata": {},
   "outputs": [
    {
     "output_type": "stream",
     "name": "stdout",
     "text": [
      "10\n11\n12\n13\n14\n15\n16\n17\n18\n19\n"
     ]
    }
   ],
   "source": [
    "#count is a part of itertools which can make an infinite loop for data:\n",
    "from itertools import count\n",
    "\n",
    "for i in count(10):\n",
    "    print(i)               #if we stop code here it goes until infinitive :))\n",
    "    if i == 19:\n",
    "        break             # by these two line codes we ask it if i goes to 19: stop the loop"
   ]
  },
  {
   "cell_type": "code",
   "execution_count": null,
   "metadata": {},
   "outputs": [],
   "source": [
    "from itertools import cycle      #this cycle a value for us infinitively\n",
    "\n",
    "a = [1, 2, 3]\n",
    "for i in cycle(a, 3):\n",
    "    print(i)"
   ]
  },
  {
   "cell_type": "code",
   "execution_count": 2,
   "metadata": {},
   "outputs": [
    {
     "output_type": "stream",
     "name": "stdout",
     "text": [
      "1\n1\n1\n1\n"
     ]
    }
   ],
   "source": [
    "from itertools import repeat           #this tool gives us chance of repeating an item, element or vale:\n",
    "A = [1, 2, 3, 4]\n",
    "for i in repeat (1, 4):             #I asked python from the list print number 1 for 4 times\n",
    "     print(i)\n"
   ]
  },
  {
   "cell_type": "code",
   "execution_count": null,
   "metadata": {},
   "outputs": [],
   "source": []
  }
 ]
}