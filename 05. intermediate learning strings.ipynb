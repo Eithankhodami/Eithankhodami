{
 "metadata": {
  "language_info": {
   "codemirror_mode": {
    "name": "ipython",
    "version": 3
   },
   "file_extension": ".py",
   "mimetype": "text/x-python",
   "name": "python",
   "nbconvert_exporter": "python",
   "pygments_lexer": "ipython3",
   "version": "3.8.0"
  },
  "orig_nbformat": 2,
  "kernelspec": {
   "name": "python380jvsc74a57bd02fa617a35824ebf3cdda57a5f51b1bae8dabb4c113331f9087f830c93348a51c",
   "display_name": "Python 3.8.0 64-bit"
  }
 },
 "nbformat": 4,
 "nbformat_minor": 2,
 "cells": [
  {
   "cell_type": "code",
   "execution_count": 1,
   "metadata": {},
   "outputs": [],
   "source": [
    "#ordered, immutable ad text represenation sort of data in python"
   ]
  },
  {
   "cell_type": "code",
   "execution_count": 2,
   "metadata": {},
   "outputs": [
    {
     "output_type": "stream",
     "name": "stdout",
     "text": [
      "hello world\nhello world\n"
     ]
    }
   ],
   "source": [
    "# 1. Strings can be created with '..' or \"...\" forms\n",
    "my_string = 'hello world'\n",
    "my_string1 = \"hello world\"\n",
    "\n",
    "print(my_string)\n",
    "print(my_string1)"
   ]
  },
  {
   "cell_type": "code",
   "execution_count": 4,
   "metadata": {},
   "outputs": [
    {
     "output_type": "stream",
     "name": "stdout",
     "text": [
      "I'm a learner\nI'm a learner\n"
     ]
    }
   ],
   "source": [
    "# 2. if you have form such as I'm so that therei is a single qoute:\n",
    "# 2.1 use \" \" and put I'm in that\n",
    "# 2.2 use 'I\\'m ...'\n",
    "\n",
    "my_string = \"I'm a learner\"\n",
    "my_string1 = 'I\\'m a learner'\n",
    "\n",
    "print(my_string)\n",
    "print(my_string1)\n"
   ]
  },
  {
   "cell_type": "code",
   "execution_count": 5,
   "metadata": {},
   "outputs": [
    {
     "output_type": "stream",
     "name": "stdout",
     "text": [
      " I am happy\nso I can use multi line\nas much\nas I can\n...\n\n"
     ]
    }
   ],
   "source": [
    "# 3. using \"\"\" \"\"\" is for multi-line and documentation\n",
    "my_stirng_doc = \"\"\" I am happy\n",
    "so I can use multi line\n",
    "as much\n",
    "as I can\n",
    "...\n",
    "\"\"\"\n",
    "print(my_stirng_doc)"
   ]
  },
  {
   "cell_type": "code",
   "execution_count": 3,
   "metadata": {},
   "outputs": [
    {
     "output_type": "stream",
     "name": "stdout",
     "text": [
      "I\na\nn\n"
     ]
    }
   ],
   "source": [
    "#accessing a character of a string look like using index in the lists\n",
    "mystring = \"I am learning python\"\n",
    "char = mystring[0]\n",
    "char1 = mystring[2]\n",
    "char3 = mystring[-1]\n",
    "\n",
    "print(char)\n",
    "print(char1)\n",
    "print(char3) "
   ]
  },
  {
   "cell_type": "code",
   "execution_count": 15,
   "metadata": {},
   "outputs": [
    {
     "output_type": "stream",
     "name": "stdout",
     "text": [
      "'m a \n"
     ]
    }
   ],
   "source": [
    "#after having a string, you can not change it!\n",
    "#as list, we can slice string\n",
    "print(my_string[1:6])"
   ]
  },
  {
   "cell_type": "code",
   "execution_count": 17,
   "metadata": {},
   "outputs": [
    {
     "output_type": "stream",
     "name": "stdout",
     "text": [
      "helloworld\nhello world\n"
     ]
    }
   ],
   "source": [
    "# contatinating two strings by using + sign\n",
    "string1 = \"hello\"\n",
    "string2 = \"world\"\n",
    "string3 = string1 + string2\n",
    "print(string3)\n",
    "#to make space between them easily add a \" \" between them:\n",
    "print(string1 + \" \" + string2)\n"
   ]
  },
  {
   "cell_type": "code",
   "execution_count": 18,
   "metadata": {},
   "outputs": [
    {
     "output_type": "stream",
     "name": "stdout",
     "text": [
      "h\ne\nl\nl\no\nw\no\nr\nl\nd\n"
     ]
    }
   ],
   "source": [
    "for i in string3:\n",
    "    print(i)\n",
    "    "
   ]
  },
  {
   "cell_type": "code",
   "execution_count": 19,
   "metadata": {},
   "outputs": [
    {
     "output_type": "stream",
     "name": "stdout",
     "text": [
      "True\n"
     ]
    }
   ],
   "source": [
    "if \"e\" in string3:\n",
    "    print(True)\n",
    "else:\n",
    "    print(False)\n",
    "    "
   ]
  },
  {
   "cell_type": "code",
   "execution_count": 26,
   "metadata": {},
   "outputs": [
    {
     "output_type": "stream",
     "name": "stdout",
     "text": [
      "                  hello            \nhello\nhello\n"
     ]
    }
   ],
   "source": [
    "#if a string has a lot of space, remove them by .strip() command\n",
    "stringa = \"                  hello            \"\n",
    "print(stringa)\n",
    "s_string = stringa.strip()\n",
    "print(s_string) #or\n",
    "print(stringa.strip())\n"
   ]
  },
  {
   "cell_type": "code",
   "execution_count": 2,
   "metadata": {},
   "outputs": [
    {
     "output_type": "error",
     "ename": "NameError",
     "evalue": "name 'mystring' is not defined",
     "traceback": [
      "\u001b[1;31m---------------------------------------------------------------------------\u001b[0m",
      "\u001b[1;31mNameError\u001b[0m                                 Traceback (most recent call last)",
      "\u001b[1;32m<ipython-input-2-5fb785348b17>\u001b[0m in \u001b[0;36m<module>\u001b[1;34m\u001b[0m\n\u001b[1;32m----> 1\u001b[1;33m \u001b[0mprint\u001b[0m\u001b[1;33m(\u001b[0m\u001b[0mmystring\u001b[0m\u001b[1;33m.\u001b[0m\u001b[0mupper\u001b[0m\u001b[1;33m(\u001b[0m\u001b[1;33m)\u001b[0m\u001b[1;33m)\u001b[0m  \u001b[1;31m#changes all to upper case\u001b[0m\u001b[1;33m\u001b[0m\u001b[1;33m\u001b[0m\u001b[0m\n\u001b[0m\u001b[0;32m      2\u001b[0m \u001b[0mprint\u001b[0m\u001b[1;33m(\u001b[0m\u001b[0mmystring\u001b[0m\u001b[1;33m.\u001b[0m\u001b[0mlower\u001b[0m\u001b[1;33m(\u001b[0m\u001b[1;33m)\u001b[0m\u001b[1;33m)\u001b[0m  \u001b[1;31m#changes all to lower case\u001b[0m\u001b[1;33m\u001b[0m\u001b[1;33m\u001b[0m\u001b[0m\n",
      "\u001b[1;31mNameError\u001b[0m: name 'mystring' is not defined"
     ]
    }
   ],
   "source": [
    "print(mystring.upper())  #changes all to upper case\n",
    "print(mystring.lower())  #changes all to lower case"
   ]
  },
  {
   "cell_type": "code",
   "execution_count": 29,
   "metadata": {},
   "outputs": [
    {
     "output_type": "stream",
     "name": "stdout",
     "text": [
      "False\n"
     ]
    }
   ],
   "source": [
    "#if we want to know if a string starts with specific character:\n",
    "print(mystring.startswith(\"H\"))\n",
    "#this returns False, \n",
    "# h and H or i and I are different in python"
   ]
  },
  {
   "cell_type": "code",
   "execution_count": 31,
   "metadata": {},
   "outputs": [
    {
     "output_type": "stream",
     "name": "stdout",
     "text": [
      "False\nTrue\n"
     ]
    }
   ],
   "source": [
    "#if we want to know if a ends starts with specific character:\n",
    "print(mystring.endswith(\"world\"))\n",
    "print(mystring.endswith(\"python\"))"
   ]
  },
  {
   "cell_type": "code",
   "execution_count": 32,
   "metadata": {},
   "outputs": [
    {
     "output_type": "stream",
     "name": "stdout",
     "text": [
      "5\n"
     ]
    }
   ],
   "source": [
    "#to find index a character we use .find()\n",
    "print(mystring.find(\"l\")) #this returns the first index which has found"
   ]
  },
  {
   "cell_type": "code",
   "execution_count": 4,
   "metadata": {},
   "outputs": [
    {
     "output_type": "stream",
     "name": "stdout",
     "text": [
      "-1\n"
     ]
    }
   ],
   "source": [
    "#if string could not be found, then the code returns -1\n",
    "print(mystring.find(\"jeal\"))"
   ]
  },
  {
   "cell_type": "code",
   "execution_count": 7,
   "metadata": {},
   "outputs": [
    {
     "output_type": "stream",
     "name": "stdout",
     "text": [
      "1\n1\n1\n"
     ]
    }
   ],
   "source": [
    "#to count number of charatcter of a string, easily:\n",
    "print(mystring.count(\"o\"))\n",
    "print(mystring.count(\"m\"))\n",
    "print(mystring.count(\"l\"))"
   ]
  },
  {
   "cell_type": "code",
   "execution_count": 13,
   "metadata": {},
   "outputs": [
    {
     "output_type": "stream",
     "name": "stdout",
     "text": [
      "hello world\nhello universe\n"
     ]
    }
   ],
   "source": [
    "#to replace a string:\n",
    "#string.replace(\"old string\", \"new string\")\n",
    "old_string  = 'hello world'\n",
    "new_string = old_string.replace('world', 'universe')\n",
    "#this return new string and does not change old one\n",
    "print(old_string)\n",
    "print(new_string)\n"
   ]
  },
  {
   "cell_type": "code",
   "execution_count": 15,
   "metadata": {},
   "outputs": [
    {
     "output_type": "stream",
     "name": "stdout",
     "text": [
      "['hello,', 'how', 'are', 'you', 'doing', 'today', '?']\n"
     ]
    }
   ],
   "source": [
    "#if we have a sting and we want to convert it to a list:\n",
    "string_1 = 'hello, how are you doing today ?'\n",
    "my_list = string_1.split()\n",
    "print(my_list)\n",
    "#in this methods each speace is a default element of seperation"
   ]
  },
  {
   "cell_type": "code",
   "execution_count": 16,
   "metadata": {},
   "outputs": [
    {
     "output_type": "stream",
     "name": "stdout",
     "text": [
      "['hello', 'how', 'are', 'you', 'today', '?']\n"
     ]
    }
   ],
   "source": [
    "#if in convert process you have different delimiter, instead of space for example , you can specify it in code:\n",
    "comma_string = \"hello,how,are,you,today,?\"\n",
    "comma_list = comma_string.split(\",\")\n",
    "print(comma_list)"
   ]
  },
  {
   "cell_type": "code",
   "execution_count": 21,
   "metadata": {},
   "outputs": [
    {
     "output_type": "stream",
     "name": "stdout",
     "text": [
      "hello, how are you doing today ?\nhello,,how,are,you,doing,today,?\n"
     ]
    }
   ],
   "source": [
    "#to reutrn a list to string we use this format\n",
    "new_stringA = ' '.join(my_list)\n",
    "#what which we put beetween ' ' will be delimiter of the string\n",
    "print(new_stringA)\n",
    "new_stringB = ','.join(my_list) #in this model, instead of space, we have comma as delimiter\n",
    "print(new_stringB) "
   ]
  },
  {
   "cell_type": "code",
   "execution_count": 7,
   "metadata": {},
   "outputs": [
    {
     "output_type": "stream",
     "name": "stdout",
     "text": [
      "the variable is Eithan\nthis is number 3\nthis is number 3.482479\nthis is number 3.76545687\n"
     ]
    }
   ],
   "source": [
    "#formating strings:\n",
    "#first methods is to use % sign\n",
    "#to use .format()\n",
    "#since python 3.6 (NEW) by using f-Strings\n",
    "var = 'Eithan'\n",
    "my_string = \"the variable is %s\" %var \n",
    "# %s says there is a variable and then %var says its me!\n",
    "print(my_string)\n",
    "\n",
    "#if instead of a string it is a number the sign changes to %d   [d = decimal variable]\n",
    "\n",
    "vard = 3\n",
    "string_d = \"this is number %d\" %vard\n",
    "print(string_d)\n",
    "\n",
    "#if it is a float number we use %f\n",
    "\n",
    "varf = 3.482479328\n",
    "string_f = \"this is number %f\" %varf\n",
    "print(string_f) \n",
    "# by default this returns just max 6 decimals, to chnage it to as much as we want use :\n",
    "\n",
    "varf6 = 3.76545687\n",
    "string_f6 = \"this is number %.8f\" %varf6\n",
    "print(string_f6)"
   ]
  },
  {
   "cell_type": "code",
   "execution_count": 12,
   "metadata": {},
   "outputs": [
    {
     "output_type": "stream",
     "name": "stdout",
     "text": [
      "this is number 3\nthis is number 3.3434346837483746\nthis is number 3.343\nthis is number car\nthis is number of 6 car in the parking\n"
     ]
    }
   ],
   "source": [
    "#string formatting by new style:\n",
    "varn = 3\n",
    "string_n = \"this is number {}\".format(varn)\n",
    "print(string_n)\n",
    "\n",
    "varn = 3.34343468374837463\n",
    "string_n = \"this is number {}\".format(varn)\n",
    "print(string_n)\n",
    "\n",
    "#to specify number of digits after decimal, use {:.3f}\n",
    "varn = 3.34343468374837463\n",
    "string_n = \"this is number {:.3f}\".format(varn)\n",
    "print(string_n)\n",
    "\n",
    "\n",
    "varn = 'car'\n",
    "string_n = \"this is number {}\".format(varn)\n",
    "print(string_n)\n",
    "\n",
    "#if we have more than one variable, just add them as adding the first\n",
    "\n",
    "varn = 'car'\n",
    "var2 = 6\n",
    "string_n = \"this is number of {} {} in the parking\".format(var2, varn)\n",
    "print(string_n)\n"
   ]
  },
  {
   "cell_type": "code",
   "execution_count": 13,
   "metadata": {},
   "outputs": [
    {
     "output_type": "stream",
     "name": "stdout",
     "text": [
      "use has to use name and username based on the filled form\n"
     ]
    }
   ],
   "source": [
    "vara = 'name'\n",
    "varb = \"username\"\n",
    "string_ab = \"use has to use {} and {} based on the filled form\".format (vara, varb)\n",
    "print(string_ab)"
   ]
  },
  {
   "cell_type": "code",
   "execution_count": 14,
   "metadata": {},
   "outputs": [
    {
     "output_type": "stream",
     "name": "stdout",
     "text": [
      "user can use the name and family which has already provided in the list\n"
     ]
    }
   ],
   "source": [
    "#sine Python 3.6 and later, you can use f-string which looks like this:\n",
    "\n",
    "varfa = \"name\"\n",
    "varfb = \"family\"\n",
    "f_string = f\"user can use the {varfa} and {varfb} which has already provided in the list\"\n",
    "\n",
    "print(f_string)"
   ]
  },
  {
   "cell_type": "code",
   "execution_count": null,
   "metadata": {},
   "outputs": [],
   "source": []
  }
 ]
}