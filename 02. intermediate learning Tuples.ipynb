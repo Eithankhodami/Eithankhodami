{
 "metadata": {
  "language_info": {
   "codemirror_mode": {
    "name": "ipython",
    "version": 3
   },
   "file_extension": ".py",
   "mimetype": "text/x-python",
   "name": "python",
   "nbconvert_exporter": "python",
   "pygments_lexer": "ipython3",
   "version": "3.9.5"
  },
  "orig_nbformat": 2,
  "kernelspec": {
   "name": "python395jvsc74a57bd0b207607561fa681ca4dbf3d80d4258979eef238f02990d237a8978014fbfa7b7",
   "display_name": "Python 3.9.5 64-bit"
  }
 },
 "nbformat": 4,
 "nbformat_minor": 2,
 "cells": [
  {
   "cell_type": "code",
   "execution_count": null,
   "metadata": {},
   "outputs": [],
   "source": [
    "#this course is about Tuples"
   ]
  },
  {
   "cell_type": "code",
   "execution_count": null,
   "metadata": {},
   "outputs": [],
   "source": [
    "#tuple is similar to a list but it is not changable (Immutable)\n",
    "#it can be used for data which belongs to each other\n"
   ]
  },
  {
   "cell_type": "code",
   "execution_count": 4,
   "metadata": {},
   "outputs": [
    {
     "output_type": "stream",
     "name": "stdout",
     "text": [
      "('max', 3, 3.4, True, 45)\nwithour () which is >>>> ('Max', 3, 3.4, True, 45)\n"
     ]
    }
   ],
   "source": [
    "#1. in a tuple you can put different elements just by adding them to a (x, y, z)\n",
    "my_tuple = (\"max\", 3, 3.4, True, 45)\n",
    "print (my_tuple)\n",
    "\n",
    "#1.1 () is also optional\n",
    "my_tuple1 = \"Max\", 3, 3.4, True, 45\n",
    "print(\"withour () which is >>>>\", my_tuple1)"
   ]
  },
  {
   "cell_type": "code",
   "execution_count": 5,
   "metadata": {},
   "outputs": [
    {
     "output_type": "stream",
     "name": "stdout",
     "text": [
      "<class 'str'>\n"
     ]
    }
   ],
   "source": [
    "#2. Tuple can not be recognised if just by put it in ():\n",
    "tuple_a = (\"max\")\n",
    "print(type(tuple_a))           #REMIND: type is used to define model of a data"
   ]
  },
  {
   "cell_type": "code",
   "execution_count": 6,
   "metadata": {},
   "outputs": [
    {
     "output_type": "stream",
     "name": "stdout",
     "text": [
      "<class 'tuple'>\n"
     ]
    }
   ],
   "source": [
    "#2.1 as can be seen in 2, just ()is not making a tuple and you have to use a , to make it as tuple\n",
    "tuple_a1 = ('max',)\n",
    "print(type(tuple_a1))"
   ]
  },
  {
   "cell_type": "code",
   "execution_count": 8,
   "metadata": {},
   "outputs": [
    {
     "output_type": "stream",
     "name": "stdout",
     "text": [
      "('max', 23, 43)\n"
     ]
    }
   ],
   "source": [
    "#3. tuple can be create by in-built command tuple\n",
    "my_tupleN = tuple(['max', 23, 43])\n",
    "print(my_tupleN)"
   ]
  },
  {
   "cell_type": "code",
   "execution_count": 9,
   "metadata": {},
   "outputs": [
    {
     "output_type": "stream",
     "name": "stdout",
     "text": [
      "max 23 43\n"
     ]
    }
   ],
   "source": [
    "#4. tuples can be sliced as lists\n",
    "item = my_tupleN[0]\n",
    "item1 = my_tupleN[1]\n",
    "item2 = my_tupleN[-1]\n",
    "print(item, item1, item2)"
   ]
  },
  {
   "cell_type": "code",
   "execution_count": null,
   "metadata": {},
   "outputs": [],
   "source": [
    "#5. tuple can not be changed as we could change list"
   ]
  },
  {
   "cell_type": "code",
   "execution_count": 11,
   "metadata": {},
   "outputs": [
    {
     "output_type": "stream",
     "name": "stdout",
     "text": [
      "no\n"
     ]
    }
   ],
   "source": [
    "#6. tuple accept other elements and commands\n",
    "if 'max' in my_tuple1:\n",
    "    print('yes')\n",
    "else:\n",
    "    print('no')"
   ]
  },
  {
   "cell_type": "code",
   "execution_count": 12,
   "metadata": {},
   "outputs": [
    {
     "output_type": "stream",
     "name": "stdout",
     "text": [
      "max\n23\n43\n"
     ]
    }
   ],
   "source": [
    "for i in my_tupleN:\n",
    "    print(i)"
   ]
  },
  {
   "cell_type": "code",
   "execution_count": 13,
   "metadata": {},
   "outputs": [
    {
     "output_type": "stream",
     "name": "stdout",
     "text": [
      "6\n"
     ]
    }
   ],
   "source": [
    "#7. as lists, tuples also cover len command\n",
    "tuple_l = ('E', 'i', 't', 'h', 'a', 'n')\n",
    "print(len(tuple_l))"
   ]
  },
  {
   "cell_type": "code",
   "execution_count": 15,
   "metadata": {},
   "outputs": [
    {
     "output_type": "stream",
     "name": "stdout",
     "text": [
      "1\n0\n"
     ]
    }
   ],
   "source": [
    "#7.1. if you want to count number of an element in tuple use .count command\n",
    "print(tuple_l.count('a'))\n",
    "#if an element is not in the tuple, returns 0\n",
    "print(tuple_l.count('p'))"
   ]
  },
  {
   "cell_type": "code",
   "execution_count": 17,
   "metadata": {},
   "outputs": [
    {
     "output_type": "stream",
     "name": "stdout",
     "text": [
      "0\n2\n5\n"
     ]
    }
   ],
   "source": [
    "#7.2 to see the index an element use command .index\n",
    "print(tuple_l.index('E'))\n",
    "print(tuple_l.index('t'))\n",
    "print(tuple_l.index('n'))"
   ]
  },
  {
   "cell_type": "code",
   "execution_count": 19,
   "metadata": {},
   "outputs": [
    {
     "output_type": "stream",
     "name": "stdout",
     "text": [
      "['E', 'i', 't', 'h', 'a', 'n']\n('E', 'i', 't', 'h', 'a', 'n')\n"
     ]
    }
   ],
   "source": [
    "#8. convert a tuple to list and vice versa by using list() and tuple() functions\n",
    "my_list = list(tuple_l)\n",
    "print(my_list)\n",
    "my_tuple_converted_again = tuple(my_list)\n",
    "print(my_tuple_converted_again)"
   ]
  },
  {
   "cell_type": "code",
   "execution_count": 20,
   "metadata": {},
   "outputs": [
    {
     "output_type": "stream",
     "name": "stdout",
     "text": [
      "(0, 1, 2, 3, 4)\n"
     ]
    }
   ],
   "source": [
    "#9. slicing a tuple is same as list\n",
    "tuple_a = (0, 1, 2, 3, 4, 5, 6, 7, 8, 9, 10)\n",
    "slice_tuple = tuple_a[0:5]\n",
    "print(slice_tuple)"
   ]
  },
  {
   "cell_type": "code",
   "execution_count": 22,
   "metadata": {},
   "outputs": [
    {
     "output_type": "stream",
     "name": "stdout",
     "text": [
      "Max\n26\nNew York\nDoctor\n"
     ]
    }
   ],
   "source": [
    "#10. unpacking a tuple\n",
    "#lets imagine we have tuple:\n",
    "im_tuple = \"Max\", 26, \"New York\", \"Doctor\"\n",
    "#now we want to assign these elements in tuple to specific values\n",
    "name, age, city, job = im_tuple\n",
    "#NOTE: number of elements has to be same as number of tuple's element 4:4 or 5 and 5 \n",
    "print(name)\n",
    "print(age)\n",
    "print(city)\n",
    "print(job)"
   ]
  },
  {
   "cell_type": "code",
   "execution_count": 26,
   "metadata": {},
   "outputs": [
    {
     "output_type": "stream",
     "name": "stdout",
     "text": [
      "0\n1\n2\n[3, 4]\n5\n"
     ]
    }
   ],
   "source": [
    "#10.1 another method of unpacking\n",
    "my_tuple_test = (0, 1, 2, 3, 4, 5)\n",
    "i1, i2, i3, *i4, i5 = my_tuple_test\n",
    "print(i1)\n",
    "print(i2)\n",
    "print(i3)\n",
    "print(i4)\n",
    "print(i5)"
   ]
  },
  {
   "cell_type": "code",
   "execution_count": null,
   "metadata": {},
   "outputs": [],
   "source": []
  }
 ]
}