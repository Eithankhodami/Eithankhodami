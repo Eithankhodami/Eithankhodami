{
 "metadata": {
  "language_info": {
   "codemirror_mode": {
    "name": "ipython",
    "version": 3
   },
   "file_extension": ".py",
   "mimetype": "text/x-python",
   "name": "python",
   "nbconvert_exporter": "python",
   "pygments_lexer": "ipython3",
   "version": "3.9.5"
  },
  "orig_nbformat": 4,
  "kernelspec": {
   "name": "python3",
   "display_name": "Python 3.9.5 64-bit"
  },
  "interpreter": {
   "hash": "b207607561fa681ca4dbf3d80d4258979eef238f02990d237a8978014fbfa7b7"
  }
 },
 "nbformat": 4,
 "nbformat_minor": 2,
 "cells": [
  {
   "source": [
    "Lambda function is a one-line function with starts with lambda keyword, it gets an argument and expression like this:\n",
    "\n",
    "lambda x:expression"
   ],
   "cell_type": "markdown",
   "metadata": {}
  },
  {
   "cell_type": "code",
   "execution_count": 5,
   "metadata": {},
   "outputs": [
    {
     "output_type": "stream",
     "name": "stdout",
     "text": [
      "resutl with lambda >> 15\nresult with normal function >> 15\n"
     ]
    }
   ],
   "source": [
    "add10 = lambda x: x + 10\n",
    "print('resutl with lambda >>', add10(5))\n",
    "#this is practically same with the normal function  like this:\n",
    "\n",
    "def function_add10 (x):\n",
    "    return x + 10\n",
    "print('result with normal function >>', function_add10(5))"
   ]
  },
  {
   "source": [
    "   lambda function can takes more than 1 argument"
   ],
   "cell_type": "markdown",
   "metadata": {}
  },
  {
   "cell_type": "code",
   "execution_count": 9,
   "metadata": {},
   "outputs": [
    {
     "output_type": "stream",
     "name": "stdout",
     "text": [
      "5\n"
     ]
    }
   ],
   "source": [
    "multi_fucntion = lambda x, y: x + y\n",
    "print(multi_fucntion(2, 3))"
   ]
  },
  {
   "source": [
    "lambda is generally used when you need a function once in your code, or you can use it  <h3> as a funcition which takes another function </h3>"
   ],
   "cell_type": "markdown",
   "metadata": {}
  },
  {
   "source": [
    "to SORT a list, generally there is a command named sort which is in-built function, it gives us a chance to sort list and other variables"
   ],
   "cell_type": "markdown",
   "metadata": {}
  },
  {
   "cell_type": "code",
   "execution_count": 12,
   "metadata": {},
   "outputs": [
    {
     "output_type": "stream",
     "name": "stdout",
     "text": [
      "[(1, 2), (15, 1), (5, -1), (10, 4)]\n[(1, 2), (5, -1), (10, 4), (15, 1)]\n"
     ]
    }
   ],
   "source": [
    "point2D = [(1, 2), (15, 1), (5, -1), (10, 4)]\n",
    "#TO REMIND:\n",
    "# we have a list with some tuples, which can be imagines as (x, y)\n",
    "\n",
    "#lets sort this list:\n",
    "point2D_sort = sorted(point2D)  #this sort based on the first elements (here: x)\n",
    "\n",
    "print(point2D)\n",
    "print(point2D_sort)"
   ]
  },
  {
   "source": [
    "if we want to sort the point2D based on (y) value, we can use lambda function"
   ],
   "cell_type": "markdown",
   "metadata": {}
  },
  {
   "cell_type": "code",
   "execution_count": 13,
   "metadata": {},
   "outputs": [
    {
     "output_type": "stream",
     "name": "stdout",
     "text": [
      "[(5, -1), (15, 1), (1, 2), (10, 4)]\n"
     ]
    }
   ],
   "source": [
    "point2D_sort_y = sorted(point2D, key=lambda x:x[1])\n",
    "                                 #we define a key for it with lambda and the key includes x with index 1 which the second element of our tuples in the list\n",
    "\n",
    "print(point2D_sort_y)"
   ]
  },
  {
   "source": [
    "NOW lets try using another function in lambda for the same task of sort by (y):"
   ],
   "cell_type": "markdown",
   "metadata": {}
  },
  {
   "cell_type": "code",
   "execution_count": 14,
   "metadata": {},
   "outputs": [
    {
     "output_type": "stream",
     "name": "stdout",
     "text": [
      "[(5, -1), (15, 1), (1, 2), (10, 4)]\n"
     ]
    }
   ],
   "source": [
    "def sort_by_y(x):\n",
    "    return x[1]\n",
    "\n",
    "print(sorted(point2D, key= sort_by_y))\n",
    "\n",
    "#both resutls are same:"
   ]
  },
  {
   "source": [
    "let's sort the tuple data based on the sum of each:"
   ],
   "cell_type": "markdown",
   "metadata": {}
  },
  {
   "cell_type": "code",
   "execution_count": 1,
   "metadata": {},
   "outputs": [
    {
     "output_type": "stream",
     "name": "stdout",
     "text": [
      "[(1, 2), (13, 1), (14, 12), (16, 17)]\n"
     ]
    }
   ],
   "source": [
    "pints = [(1, 2), (13, 1), (14, 12), (16, 17)]\n",
    "sort_by_sum = sorted(pints, key=lambda x: x[0] + x[1])\n",
    "print(sort_by_sum)"
   ]
  },
  {
   "source": [
    "<h3> Map function is  a function which gets as map(function, sequence) <h3>"
   ],
   "cell_type": "markdown",
   "metadata": {}
  },
  {
   "cell_type": "code",
   "execution_count": 3,
   "metadata": {},
   "outputs": [
    {
     "output_type": "stream",
     "name": "stdout",
     "text": [
      "[2, 4, 6, 8, 10]\n[2, 4, 6, 8, 10]\n"
     ]
    }
   ],
   "source": [
    "a = [1, 2, 3, 4, 5]\n",
    "b = map(lambda x: x*2, a)  #map to double numbers in the list\n",
    "#this line gives the map with first function which is a lambda and second argument which is a list\n",
    "print(list(b))\n",
    "\n",
    "\n",
    "# We can do the same with list comprehension as:\n",
    "c = [x*2 for x in a]\n",
    "print(c)"
   ]
  },
  {
   "source": [
    "<h3> filter function also as map function gets a function and a sequence \n",
    "filter(function, sequence) <h3>\n",
    "       function returns true"
   ],
   "cell_type": "markdown",
   "metadata": {}
  },
  {
   "cell_type": "code",
   "execution_count": 9,
   "metadata": {},
   "outputs": [
    {
     "output_type": "stream",
     "name": "stdout",
     "text": [
      "[0, 254, 654, 5242, 534534, 75758]\n[0, 254, 654, 5242, 534534, 75758]\n"
     ]
    }
   ],
   "source": [
    " a = [0, 23, 25, 254, 654, 123, 45, 5242, 534534, 423, 45*543, 75758]\n",
    " b = filter(lambda x:x%2==0, a)\n",
    " print(list(b))\n",
    "\n",
    "#the same way by list comprehension\n",
    "sophia = [s for s in a if s%2==0]\n",
    "print(sophia)"
   ]
  },
  {
   "source": [
    "<h3> reduce function is the same as other but it returns a single value <h3>"
   ],
   "cell_type": "markdown",
   "metadata": {}
  },
  {
   "cell_type": "code",
   "execution_count": 19,
   "metadata": {},
   "outputs": [
    {
     "output_type": "stream",
     "name": "stdout",
     "text": [
      "1.0528\n"
     ]
    }
   ],
   "source": [
    "from functools import reduce\n",
    "sophia_marks = [3, 5, 5, 5, 4]\n",
    "whole_mark = reduce(lambda x,y: ((x*y)/5), sophia_marks)\n",
    "print(whole_mark)"
   ]
  }
 ]
}