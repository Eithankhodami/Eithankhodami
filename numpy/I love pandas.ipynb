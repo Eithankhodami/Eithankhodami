{
 "cells": [
  {
   "cell_type": "markdown",
   "metadata": {},
   "source": [
    "<h2> what is Pandas <h2>"
   ]
  },
  {
   "cell_type": "markdown",
   "metadata": {},
   "source": [
    "pandas is a flexible, fast, expressive data structure designed to make working with relational or labeled data easily and intuitive.  It is a high-level building block for a real worl data practice in Python. and is the most powerful data analysis and manipulator tool in any language"
   ]
  },
  {
   "cell_type": "markdown",
   "metadata": {},
   "source": [
    "data fram is a table containing columns and rows, below after the code you can define row and columns in a table"
   ]
  },
  {
   "cell_type": "code",
   "execution_count": 2,
   "metadata": {},
   "outputs": [
    {
     "data": {
      "image/jpeg": "[encoded data removed]",
      "text/plain": [
       "<IPython.core.display.Image object>"
      ]
     },
     "execution_count": 2,
     "metadata": {},
     "output_type": "execute_result"
    }
   ],
   "source": [
    "%matplotlib inline\n",
    "from IPython.display import Image\n",
    "Image('j1.jpeg')"
   ]
  },
  {
   "cell_type": "markdown",
   "metadata": {},
   "source": [
    "lets create a tabular data: a very simple one:"
   ]
  },
  {
   "cell_type": "code",
   "execution_count": 4,
   "metadata": {},
   "outputs": [
    {
     "name": "stdout",
     "output_type": "stream",
     "text": [
      "    Name  age sex\n",
      "0   John   12   M\n",
      "1  Sonia   13   F\n",
      "2  Helli   14   F\n"
     ]
    }
   ],
   "source": [
    "import pandas as pd\n",
    "\n",
    "df = pd.DataFrame(\n",
    "{\n",
    "    \"Name\":[\"John\", \"Sonia\", \"Helli\"],\n",
    "    \"age\":[12, 13, 14],\n",
    "    \"sex\":['M', 'F', \"F\"]\n",
    "}\n",
    "\n",
    ")\n",
    "#some points:\n",
    "#df is a datafram which is a table of columns and rows\n",
    "#we use dictionary to create dataFrame\n",
    "\n",
    "print(df)"
   ]
  },
  {
   "cell_type": "code",
   "execution_count": 5,
   "metadata": {},
   "outputs": [
    {
     "name": "stdout",
     "output_type": "stream",
     "text": [
      "0    12\n",
      "1    13\n",
      "2    14\n",
      "Name: age, dtype: int64\n"
     ]
    }
   ],
   "source": [
    "#if you want to check juts a specific row or column recall it:\n",
    "print(df[\"age\"])"
   ]
  },
  {
   "cell_type": "code",
   "execution_count": 13,
   "metadata": {},
   "outputs": [
    {
     "name": "stdout",
     "output_type": "stream",
     "text": [
      "0    12\n",
      "1    13\n",
      "2    16\n",
      "Name: age, dtype: int64\n"
     ]
    }
   ],
   "source": [
    "#you can create a single row containing your own dataFram\n",
    "age1 = pd.Series([12, 13, 16], name = \"age\")\n",
    "print(age)"
   ]
  },
  {
   "cell_type": "code",
   "execution_count": 11,
   "metadata": {},
   "outputs": [
    {
     "data": {
      "text/plain": [
       "14"
      ]
     },
     "execution_count": 11,
     "metadata": {},
     "output_type": "execute_result"
    }
   ],
   "source": [
    "#to define the maximum of an int in a df:\n",
    "df['age'].max()"
   ]
  },
  {
   "cell_type": "code",
   "execution_count": 14,
   "metadata": {},
   "outputs": [
    {
     "data": {
      "text/plain": [
       "16"
      ]
     },
     "execution_count": 14,
     "metadata": {},
     "output_type": "execute_result"
    }
   ],
   "source": [
    "#or the second way:\n",
    "age1.max()"
   ]
  },
  {
   "cell_type": "code",
   "execution_count": 16,
   "metadata": {},
   "outputs": [
    {
     "data": {
      "text/html": [
       "<div>\n",
       "<style scoped>\n",
       "    .dataframe tbody tr th:only-of-type {\n",
       "        vertical-align: middle;\n",
       "    }\n",
       "\n",
       "    .dataframe tbody tr th {\n",
       "        vertical-align: top;\n",
       "    }\n",
       "\n",
       "    .dataframe thead th {\n",
       "        text-align: right;\n",
       "    }\n",
       "</style>\n",
       "<table border=\"1\" class=\"dataframe\">\n",
       "  <thead>\n",
       "    <tr style=\"text-align: right;\">\n",
       "      <th></th>\n",
       "      <th>age</th>\n",
       "    </tr>\n",
       "  </thead>\n",
       "  <tbody>\n",
       "    <tr>\n",
       "      <th>count</th>\n",
       "      <td>3.0</td>\n",
       "    </tr>\n",
       "    <tr>\n",
       "      <th>mean</th>\n",
       "      <td>13.0</td>\n",
       "    </tr>\n",
       "    <tr>\n",
       "      <th>std</th>\n",
       "      <td>1.0</td>\n",
       "    </tr>\n",
       "    <tr>\n",
       "      <th>min</th>\n",
       "      <td>12.0</td>\n",
       "    </tr>\n",
       "    <tr>\n",
       "      <th>25%</th>\n",
       "      <td>12.5</td>\n",
       "    </tr>\n",
       "    <tr>\n",
       "      <th>50%</th>\n",
       "      <td>13.0</td>\n",
       "    </tr>\n",
       "    <tr>\n",
       "      <th>75%</th>\n",
       "      <td>13.5</td>\n",
       "    </tr>\n",
       "    <tr>\n",
       "      <th>max</th>\n",
       "      <td>14.0</td>\n",
       "    </tr>\n",
       "  </tbody>\n",
       "</table>\n",
       "</div>"
      ],
      "text/plain": [
       "        age\n",
       "count   3.0\n",
       "mean   13.0\n",
       "std     1.0\n",
       "min    12.0\n",
       "25%    12.5\n",
       "50%    13.0\n",
       "75%    13.5\n",
       "max    14.0"
      ]
     },
     "execution_count": 16,
     "metadata": {},
     "output_type": "execute_result"
    }
   ],
   "source": [
    "#to describe a data\n",
    "df.describe()"
   ]
  },
  {
   "cell_type": "code",
   "execution_count": 19,
   "metadata": {},
   "outputs": [
    {
     "name": "stdout",
     "output_type": "stream",
     "text": [
      "sum of age1 >>>  41\n",
      "sum of df-age >>>  39\n"
     ]
    }
   ],
   "source": [
    "#to calculate sum:\n",
    "print('sum of age1 >>> ', age1.sum())\n",
    "\n",
    "print('sum of df-age >>> ', df['age'].sum())"
   ]
  },
  {
   "cell_type": "code",
   "execution_count": 30,
   "metadata": {},
   "outputs": [
    {
     "name": "stdout",
     "output_type": "stream",
     "text": [
      "0     9\n",
      "1     5\n",
      "2     5\n",
      "3     6\n",
      "4     1\n",
      "5     2\n",
      "6     2\n",
      "7     5\n",
      "8     2\n",
      "9     8\n",
      "10    4\n",
      "11    1\n",
      "dtype: int32\n"
     ]
    }
   ],
   "source": [
    "#we can create a random series using numpy\n",
    "import numpy as np\n",
    "\n",
    "rand_series = pd.Series(np.random.randint(1, 10, size= 12))\n",
    "#here we created 12 random data in int form between 1, 10\n",
    "print(rand_series)\n",
    "\n"
   ]
  },
  {
   "cell_type": "code",
   "execution_count": 45,
   "metadata": {},
   "outputs": [
    {
     "data": {
      "text/html": [
       "<div>\n",
       "<style scoped>\n",
       "    .dataframe tbody tr th:only-of-type {\n",
       "        vertical-align: middle;\n",
       "    }\n",
       "\n",
       "    .dataframe tbody tr th {\n",
       "        vertical-align: top;\n",
       "    }\n",
       "\n",
       "    .dataframe thead th {\n",
       "        text-align: right;\n",
       "    }\n",
       "</style>\n",
       "<table border=\"1\" class=\"dataframe\">\n",
       "  <thead>\n",
       "    <tr style=\"text-align: right;\">\n",
       "      <th></th>\n",
       "      <th>A</th>\n",
       "      <th>B</th>\n",
       "      <th>C</th>\n",
       "      <th>D</th>\n",
       "      <th>E</th>\n",
       "    </tr>\n",
       "  </thead>\n",
       "  <tbody>\n",
       "    <tr>\n",
       "      <th>count</th>\n",
       "      <td>10000.000000</td>\n",
       "      <td>10000.000000</td>\n",
       "      <td>10000.00000</td>\n",
       "      <td>10000.000000</td>\n",
       "      <td>10000.000000</td>\n",
       "    </tr>\n",
       "    <tr>\n",
       "      <th>mean</th>\n",
       "      <td>2.491300</td>\n",
       "      <td>2.498900</td>\n",
       "      <td>2.49370</td>\n",
       "      <td>2.500400</td>\n",
       "      <td>2.496500</td>\n",
       "    </tr>\n",
       "    <tr>\n",
       "      <th>std</th>\n",
       "      <td>1.116086</td>\n",
       "      <td>1.120145</td>\n",
       "      <td>1.11977</td>\n",
       "      <td>1.120948</td>\n",
       "      <td>1.119961</td>\n",
       "    </tr>\n",
       "    <tr>\n",
       "      <th>min</th>\n",
       "      <td>1.000000</td>\n",
       "      <td>1.000000</td>\n",
       "      <td>1.00000</td>\n",
       "      <td>1.000000</td>\n",
       "      <td>1.000000</td>\n",
       "    </tr>\n",
       "    <tr>\n",
       "      <th>25%</th>\n",
       "      <td>1.000000</td>\n",
       "      <td>1.000000</td>\n",
       "      <td>1.00000</td>\n",
       "      <td>1.000000</td>\n",
       "      <td>1.000000</td>\n",
       "    </tr>\n",
       "    <tr>\n",
       "      <th>50%</th>\n",
       "      <td>2.000000</td>\n",
       "      <td>3.000000</td>\n",
       "      <td>2.00000</td>\n",
       "      <td>2.000000</td>\n",
       "      <td>2.000000</td>\n",
       "    </tr>\n",
       "    <tr>\n",
       "      <th>75%</th>\n",
       "      <td>3.000000</td>\n",
       "      <td>4.000000</td>\n",
       "      <td>3.00000</td>\n",
       "      <td>4.000000</td>\n",
       "      <td>4.000000</td>\n",
       "    </tr>\n",
       "    <tr>\n",
       "      <th>max</th>\n",
       "      <td>4.000000</td>\n",
       "      <td>4.000000</td>\n",
       "      <td>4.00000</td>\n",
       "      <td>4.000000</td>\n",
       "      <td>4.000000</td>\n",
       "    </tr>\n",
       "  </tbody>\n",
       "</table>\n",
       "</div>"
      ],
      "text/plain": [
       "                  A             B            C             D             E\n",
       "count  10000.000000  10000.000000  10000.00000  10000.000000  10000.000000\n",
       "mean       2.491300      2.498900      2.49370      2.500400      2.496500\n",
       "std        1.116086      1.120145      1.11977      1.120948      1.119961\n",
       "min        1.000000      1.000000      1.00000      1.000000      1.000000\n",
       "25%        1.000000      1.000000      1.00000      1.000000      1.000000\n",
       "50%        2.000000      3.000000      2.00000      2.000000      2.000000\n",
       "75%        3.000000      4.000000      3.00000      4.000000      4.000000\n",
       "max        4.000000      4.000000      4.00000      4.000000      4.000000"
      ]
     },
     "execution_count": 45,
     "metadata": {},
     "output_type": "execute_result"
    }
   ],
   "source": [
    "#lets create an advanced datafram with labels\n",
    "AA = pd.DataFrame(np.random.randint(1,5,size=(10000, 5)), columns=list('ABCDE'))\n",
    "AA.describe()\n"
   ]
  },
  {
   "cell_type": "code",
   "execution_count": 48,
   "metadata": {},
   "outputs": [
    {
     "name": "stdout",
     "output_type": "stream",
     "text": [
      "    q1  q2  q3  q4  q5  q6  q7  q8  q9  q10\n",
      "0   87  20  95  30  70  37  59  74  37    4\n",
      "1   73   7  64  83  41  60  15  81  22    4\n",
      "2   35  58  74  23  58  50  41  70  49   24\n",
      "3   41  95  20   3  87  91  22  86  95   98\n",
      "4    2  80  85  81  12  77  81  53  18   35\n",
      "..  ..  ..  ..  ..  ..  ..  ..  ..  ..  ...\n",
      "95  84   8  67  50  27  77  47   9  88   76\n",
      "96  85  49  38  26  23  31  20  35  53   66\n",
      "97  24  79  11  74  21  15  15  81  65   16\n",
      "98  56  26  65  46  50  71  28  27  13   21\n",
      "99  44  18  26   6  32  32  55  25  85   76\n",
      "\n",
      "[100 rows x 10 columns]\n"
     ]
    },
    {
     "data": {
      "text/html": [
       "<div>\n",
       "<style scoped>\n",
       "    .dataframe tbody tr th:only-of-type {\n",
       "        vertical-align: middle;\n",
       "    }\n",
       "\n",
       "    .dataframe tbody tr th {\n",
       "        vertical-align: top;\n",
       "    }\n",
       "\n",
       "    .dataframe thead th {\n",
       "        text-align: right;\n",
       "    }\n",
       "</style>\n",
       "<table border=\"1\" class=\"dataframe\">\n",
       "  <thead>\n",
       "    <tr style=\"text-align: right;\">\n",
       "      <th></th>\n",
       "      <th>q1</th>\n",
       "      <th>q2</th>\n",
       "      <th>q3</th>\n",
       "      <th>q4</th>\n",
       "      <th>q5</th>\n",
       "      <th>q6</th>\n",
       "      <th>q7</th>\n",
       "      <th>q8</th>\n",
       "      <th>q9</th>\n",
       "      <th>q10</th>\n",
       "    </tr>\n",
       "  </thead>\n",
       "  <tbody>\n",
       "    <tr>\n",
       "      <th>count</th>\n",
       "      <td>100.000000</td>\n",
       "      <td>100.000000</td>\n",
       "      <td>100.000000</td>\n",
       "      <td>100.000000</td>\n",
       "      <td>100.000000</td>\n",
       "      <td>100.000000</td>\n",
       "      <td>100.000000</td>\n",
       "      <td>100.000000</td>\n",
       "      <td>100.00000</td>\n",
       "      <td>100.000000</td>\n",
       "    </tr>\n",
       "    <tr>\n",
       "      <th>mean</th>\n",
       "      <td>52.680000</td>\n",
       "      <td>47.450000</td>\n",
       "      <td>50.180000</td>\n",
       "      <td>46.200000</td>\n",
       "      <td>48.360000</td>\n",
       "      <td>51.150000</td>\n",
       "      <td>49.650000</td>\n",
       "      <td>47.910000</td>\n",
       "      <td>51.58000</td>\n",
       "      <td>43.850000</td>\n",
       "    </tr>\n",
       "    <tr>\n",
       "      <th>std</th>\n",
       "      <td>28.905586</td>\n",
       "      <td>29.592988</td>\n",
       "      <td>30.901074</td>\n",
       "      <td>28.168684</td>\n",
       "      <td>28.199334</td>\n",
       "      <td>27.928616</td>\n",
       "      <td>28.818265</td>\n",
       "      <td>28.111644</td>\n",
       "      <td>30.32923</td>\n",
       "      <td>30.777591</td>\n",
       "    </tr>\n",
       "    <tr>\n",
       "      <th>min</th>\n",
       "      <td>0.000000</td>\n",
       "      <td>0.000000</td>\n",
       "      <td>0.000000</td>\n",
       "      <td>1.000000</td>\n",
       "      <td>1.000000</td>\n",
       "      <td>0.000000</td>\n",
       "      <td>0.000000</td>\n",
       "      <td>1.000000</td>\n",
       "      <td>0.00000</td>\n",
       "      <td>0.000000</td>\n",
       "    </tr>\n",
       "    <tr>\n",
       "      <th>25%</th>\n",
       "      <td>27.000000</td>\n",
       "      <td>26.000000</td>\n",
       "      <td>24.000000</td>\n",
       "      <td>23.750000</td>\n",
       "      <td>25.000000</td>\n",
       "      <td>29.250000</td>\n",
       "      <td>22.750000</td>\n",
       "      <td>25.000000</td>\n",
       "      <td>27.00000</td>\n",
       "      <td>17.500000</td>\n",
       "    </tr>\n",
       "    <tr>\n",
       "      <th>50%</th>\n",
       "      <td>56.000000</td>\n",
       "      <td>46.000000</td>\n",
       "      <td>53.000000</td>\n",
       "      <td>42.000000</td>\n",
       "      <td>47.000000</td>\n",
       "      <td>53.000000</td>\n",
       "      <td>52.000000</td>\n",
       "      <td>48.000000</td>\n",
       "      <td>52.50000</td>\n",
       "      <td>40.000000</td>\n",
       "    </tr>\n",
       "    <tr>\n",
       "      <th>75%</th>\n",
       "      <td>78.250000</td>\n",
       "      <td>74.250000</td>\n",
       "      <td>77.250000</td>\n",
       "      <td>71.000000</td>\n",
       "      <td>74.000000</td>\n",
       "      <td>72.250000</td>\n",
       "      <td>73.000000</td>\n",
       "      <td>68.250000</td>\n",
       "      <td>80.25000</td>\n",
       "      <td>72.000000</td>\n",
       "    </tr>\n",
       "    <tr>\n",
       "      <th>max</th>\n",
       "      <td>99.000000</td>\n",
       "      <td>98.000000</td>\n",
       "      <td>99.000000</td>\n",
       "      <td>97.000000</td>\n",
       "      <td>99.000000</td>\n",
       "      <td>99.000000</td>\n",
       "      <td>98.000000</td>\n",
       "      <td>99.000000</td>\n",
       "      <td>99.00000</td>\n",
       "      <td>98.000000</td>\n",
       "    </tr>\n",
       "  </tbody>\n",
       "</table>\n",
       "</div>"
      ],
      "text/plain": [
       "               q1          q2          q3          q4          q5          q6  \\\n",
       "count  100.000000  100.000000  100.000000  100.000000  100.000000  100.000000   \n",
       "mean    52.680000   47.450000   50.180000   46.200000   48.360000   51.150000   \n",
       "std     28.905586   29.592988   30.901074   28.168684   28.199334   27.928616   \n",
       "min      0.000000    0.000000    0.000000    1.000000    1.000000    0.000000   \n",
       "25%     27.000000   26.000000   24.000000   23.750000   25.000000   29.250000   \n",
       "50%     56.000000   46.000000   53.000000   42.000000   47.000000   53.000000   \n",
       "75%     78.250000   74.250000   77.250000   71.000000   74.000000   72.250000   \n",
       "max     99.000000   98.000000   99.000000   97.000000   99.000000   99.000000   \n",
       "\n",
       "               q7          q8         q9         q10  \n",
       "count  100.000000  100.000000  100.00000  100.000000  \n",
       "mean    49.650000   47.910000   51.58000   43.850000  \n",
       "std     28.818265   28.111644   30.32923   30.777591  \n",
       "min      0.000000    1.000000    0.00000    0.000000  \n",
       "25%     22.750000   25.000000   27.00000   17.500000  \n",
       "50%     52.000000   48.000000   52.50000   40.000000  \n",
       "75%     73.000000   68.250000   80.25000   72.000000  \n",
       "max     98.000000   99.000000   99.00000   98.000000  "
      ]
     },
     "execution_count": 48,
     "metadata": {},
     "output_type": "execute_result"
    }
   ],
   "source": [
    "AAA = pd.DataFrame(np.random.randint(0,100,size=(100, 10)), columns=(['q1', 'q2', 'q3','q4','q5','q6','q7','q8','q9','q10']))\n",
    "print(AAA)\n",
    "AAA.describe()"
   ]
  },
  {
   "cell_type": "code",
   "execution_count": 50,
   "metadata": {},
   "outputs": [
    {
     "data": {
      "text/plain": [
       "count     5\n",
       "unique    2\n",
       "top       b\n",
       "freq      4\n",
       "dtype: object"
      ]
     },
     "execution_count": 50,
     "metadata": {},
     "output_type": "execute_result"
    }
   ],
   "source": [
    "#we also can describe strings but priority is with int or floats\n",
    "aab = pd.Series(['a', 'b', 'b', np.nan, 'b', 'b'])\n",
    "aab.describe()"
   ]
  },
  {
   "cell_type": "code",
   "execution_count": 52,
   "metadata": {},
   "outputs": [
    {
     "data": {
      "text/html": [
       "<div>\n",
       "<style scoped>\n",
       "    .dataframe tbody tr th:only-of-type {\n",
       "        vertical-align: middle;\n",
       "    }\n",
       "\n",
       "    .dataframe tbody tr th {\n",
       "        vertical-align: top;\n",
       "    }\n",
       "\n",
       "    .dataframe thead th {\n",
       "        text-align: right;\n",
       "    }\n",
       "</style>\n",
       "<table border=\"1\" class=\"dataframe\">\n",
       "  <thead>\n",
       "    <tr style=\"text-align: right;\">\n",
       "      <th></th>\n",
       "      <th>0</th>\n",
       "    </tr>\n",
       "  </thead>\n",
       "  <tbody>\n",
       "    <tr>\n",
       "      <th>count</th>\n",
       "      <td>13</td>\n",
       "    </tr>\n",
       "    <tr>\n",
       "      <th>unique</th>\n",
       "      <td>8</td>\n",
       "    </tr>\n",
       "    <tr>\n",
       "      <th>top</th>\n",
       "      <td>b</td>\n",
       "    </tr>\n",
       "    <tr>\n",
       "      <th>freq</th>\n",
       "      <td>4</td>\n",
       "    </tr>\n",
       "  </tbody>\n",
       "</table>\n",
       "</div>"
      ],
      "text/plain": [
       "         0\n",
       "count   13\n",
       "unique   8\n",
       "top      b\n",
       "freq     4"
      ]
     },
     "execution_count": 52,
     "metadata": {},
     "output_type": "execute_result"
    }
   ],
   "source": [
    "#if we have group and complex data, we can describe with all\n",
    "aac = pd.DataFrame(['a', 'b', 'b', np.nan, 'b', 'b', 3, 4, 5, 3, 2, 1, 2, 10])\n",
    "aac.describe(include=\"all\")"
   ]
  },
  {
   "cell_type": "code",
   "execution_count": 54,
   "metadata": {},
   "outputs": [
    {
     "data": {
      "text/html": [
       "<div>\n",
       "<style scoped>\n",
       "    .dataframe tbody tr th:only-of-type {\n",
       "        vertical-align: middle;\n",
       "    }\n",
       "\n",
       "    .dataframe tbody tr th {\n",
       "        vertical-align: top;\n",
       "    }\n",
       "\n",
       "    .dataframe thead th {\n",
       "        text-align: right;\n",
       "    }\n",
       "</style>\n",
       "<table border=\"1\" class=\"dataframe\">\n",
       "  <thead>\n",
       "    <tr style=\"text-align: right;\">\n",
       "      <th></th>\n",
       "      <th>a</th>\n",
       "      <th>b</th>\n",
       "    </tr>\n",
       "  </thead>\n",
       "  <tbody>\n",
       "    <tr>\n",
       "      <th>count</th>\n",
       "      <td>5</td>\n",
       "      <td>5.000000</td>\n",
       "    </tr>\n",
       "    <tr>\n",
       "      <th>unique</th>\n",
       "      <td>3</td>\n",
       "      <td>NaN</td>\n",
       "    </tr>\n",
       "    <tr>\n",
       "      <th>top</th>\n",
       "      <td>a</td>\n",
       "      <td>NaN</td>\n",
       "    </tr>\n",
       "    <tr>\n",
       "      <th>freq</th>\n",
       "      <td>2</td>\n",
       "      <td>NaN</td>\n",
       "    </tr>\n",
       "    <tr>\n",
       "      <th>mean</th>\n",
       "      <td>NaN</td>\n",
       "      <td>2.000000</td>\n",
       "    </tr>\n",
       "    <tr>\n",
       "      <th>std</th>\n",
       "      <td>NaN</td>\n",
       "      <td>1.581139</td>\n",
       "    </tr>\n",
       "    <tr>\n",
       "      <th>min</th>\n",
       "      <td>NaN</td>\n",
       "      <td>0.000000</td>\n",
       "    </tr>\n",
       "    <tr>\n",
       "      <th>25%</th>\n",
       "      <td>NaN</td>\n",
       "      <td>1.000000</td>\n",
       "    </tr>\n",
       "    <tr>\n",
       "      <th>50%</th>\n",
       "      <td>NaN</td>\n",
       "      <td>2.000000</td>\n",
       "    </tr>\n",
       "    <tr>\n",
       "      <th>75%</th>\n",
       "      <td>NaN</td>\n",
       "      <td>3.000000</td>\n",
       "    </tr>\n",
       "    <tr>\n",
       "      <th>max</th>\n",
       "      <td>NaN</td>\n",
       "      <td>4.000000</td>\n",
       "    </tr>\n",
       "  </tbody>\n",
       "</table>\n",
       "</div>"
      ],
      "text/plain": [
       "          a         b\n",
       "count     5  5.000000\n",
       "unique    3       NaN\n",
       "top       a       NaN\n",
       "freq      2       NaN\n",
       "mean    NaN  2.000000\n",
       "std     NaN  1.581139\n",
       "min     NaN  0.000000\n",
       "25%     NaN  1.000000\n",
       "50%     NaN  2.000000\n",
       "75%     NaN  3.000000\n",
       "max     NaN  4.000000"
      ]
     },
     "execution_count": 54,
     "metadata": {},
     "output_type": "execute_result"
    }
   ],
   "source": [
    "fram = pd.DataFrame(\n",
    "    {\n",
    "        'a':['a', 'bb', 'bb', 'c', 'a'],\n",
    "        'b':range(5)\n",
    "\n",
    "\n",
    "    }\n",
    ")\n",
    "\n",
    "fram.describe(include='all')\n",
    "\n",
    "#NOTE : all data must be at the same range! so if a has 5 elements b must be the same"
   ]
  },
  {
   "cell_type": "code",
   "execution_count": 55,
   "metadata": {},
   "outputs": [
    {
     "name": "stdout",
     "output_type": "stream",
     "text": [
      "        a\n",
      "count   5\n",
      "unique  3\n",
      "top     a\n",
      "freq    2\n",
      "\n",
      "              b\n",
      "count  5.000000\n",
      "mean   2.000000\n",
      "std    1.581139\n",
      "min    0.000000\n",
      "25%    1.000000\n",
      "50%    2.000000\n",
      "75%    3.000000\n",
      "max    4.000000\n"
     ]
    }
   ],
   "source": [
    "#if we want to have them but specifically check one option, we do like this:\n",
    "print(fram.describe(include = \"object\"))\n",
    "print()  #just to make an empty space!\n",
    "print(fram.describe(include = 'number'))\n"
   ]
  },
  {
   "cell_type": "markdown",
   "metadata": {},
   "source": [
    "idmax and idmin are acting as argmax and argmin in numpy"
   ]
  },
  {
   "cell_type": "code",
   "execution_count": 58,
   "metadata": {},
   "outputs": [
    {
     "name": "stdout",
     "output_type": "stream",
     "text": [
      "0    0.596229\n",
      "1   -2.093271\n",
      "2   -1.942713\n",
      "3   -1.080964\n",
      "4   -0.655282\n",
      "dtype: float64\n",
      "1 0\n"
     ]
    }
   ],
   "source": [
    "s1 = pd.Series(np.random.randn(5))\n",
    "print(s1)\n",
    "print(s1.idxmin(), s1.idxmax())\n",
    "#this return the index were the min and max are located"
   ]
  },
  {
   "cell_type": "code",
   "execution_count": 63,
   "metadata": {},
   "outputs": [
    {
     "name": "stdout",
     "output_type": "stream",
     "text": [
      "          A         B         c\n",
      "0 -0.074191  0.416768  0.240360\n",
      "1 -1.022682 -1.279470  1.019285\n",
      "2  0.209450 -1.047526 -0.282055\n",
      "3  0.572594  0.452996 -1.271739\n",
      "4 -1.667598 -1.754689 -0.357774\n",
      "calculate minimum based on rows \n",
      " A    4\n",
      "B    4\n",
      "c    3\n",
      "dtype: int64\n",
      "calculate maximum based on rows \n",
      " 0    B\n",
      "1    c\n",
      "2    A\n",
      "3    A\n",
      "4    c\n",
      "dtype: object\n"
     ]
    }
   ],
   "source": [
    "df1 = pd.DataFrame(np.random.randn(5, 3), columns=['A', 'B', 'c'])\n",
    "print(df1)\n",
    "print(\"\"\"calculate minimum based on rows \\n\"\"\", df1.idxmin(axis = 0))\n",
    "#this shows minimum in each group\n",
    "print(\"\"\"calculate maximum based on rows \\n\"\"\", df1.idxmax(axis = 1))"
   ]
  },
  {
   "cell_type": "code",
   "execution_count": null,
   "metadata": {},
   "outputs": [],
   "source": []
  }
 ],
 "metadata": {
  "interpreter": {
   "hash": "02dd58cfc0df4ad19eeedf013046337a7ff38a07b36bc06f7955acd89b740cfb"
  },
  "kernelspec": {
   "display_name": "Python 3.10.2 64-bit",
   "language": "python",
   "name": "python3"
  },
  "language_info": {
   "codemirror_mode": {
    "name": "ipython",
    "version": 3
   },
   "file_extension": ".py",
   "mimetype": "text/x-python",
   "name": "python",
   "nbconvert_exporter": "python",
   "pygments_lexer": "ipython3",
   "version": "3.10.2"
  },
  "orig_nbformat": 4
 },
 "nbformat": 4,
 "nbformat_minor": 2
}
