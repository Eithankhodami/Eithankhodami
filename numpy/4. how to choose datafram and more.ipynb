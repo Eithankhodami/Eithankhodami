{
 "cells": [
  {
   "cell_type": "code",
   "execution_count": 4,
   "metadata": {},
   "outputs": [
    {
     "name": "stdout",
     "output_type": "stream",
     "text": [
      "   Unnamed: 0                                           Name PClass    Age  \\\n",
      "0           1                   Allen, Miss Elisabeth Walton    1st  29.00   \n",
      "1           2                    Allison, Miss Helen Loraine    1st   2.00   \n",
      "2           3            Allison, Mr Hudson Joshua Creighton    1st  30.00   \n",
      "3           4  Allison, Mrs Hudson JC (Bessie Waldo Daniels)    1st  25.00   \n",
      "4           5                  Allison, Master Hudson Trevor    1st   0.92   \n",
      "5           6                             Anderson, Mr Harry    1st  47.00   \n",
      "\n",
      "      Sex  Survived  SexCode  \n",
      "0  female         1        1  \n",
      "1  female         0        1  \n",
      "2    male         0        0  \n",
      "3  female         0        1  \n",
      "4    male         1        0  \n",
      "5    male         1        0  \n"
     ]
    }
   ],
   "source": [
    "import pandas as pd\n",
    "\n",
    "Data = pd.read_csv('titanic.csv')\n",
    "\n",
    "print(Data.head(6))"
   ]
  },
  {
   "cell_type": "code",
   "execution_count": 10,
   "metadata": {},
   "outputs": [
    {
     "name": "stdout",
     "output_type": "stream",
     "text": [
      "0    29.00\n",
      "1     2.00\n",
      "2    30.00\n",
      "3    25.00\n",
      "4     0.92\n",
      "Name: Age, dtype: float64\n"
     ]
    }
   ],
   "source": [
    "#if we have a group of data and we want to choose a row, column [which called DataFRame]\n",
    "\n",
    "age = Data['Age']\n",
    "print(age.head())"
   ]
  },
  {
   "cell_type": "code",
   "execution_count": 20,
   "metadata": {},
   "outputs": [
    {
     "name": "stdout",
     "output_type": "stream",
     "text": [
      "number of columns for Age >>>  (1313,)\n",
      "number of columns for Sex >>>  (1313,)\n",
      "<class 'pandas.core.series.Series'>\n"
     ]
    }
   ],
   "source": [
    "#if you would like to know about Data shape:\n",
    "print('number of columns for Age >>> ',Data['Age'].shape)  #determine number of columns in age\n",
    "print('number of columns for Sex >>> ', Data['Sex'].shape)\n",
    "#remember (1313) is a Tuple and (1313,) is  a list\n",
    "#lets's check the type of data:\n",
    "print(type(Data['Age']))\n",
    "#type here is a series not DataFrame"
   ]
  },
  {
   "cell_type": "code",
   "execution_count": 30,
   "metadata": {},
   "outputs": [
    {
     "name": "stdout",
     "output_type": "stream",
     "text": [
      "        Age     Sex  Survived\n",
      "0     29.00  female         1\n",
      "1      2.00  female         0\n",
      "2     30.00    male         0\n",
      "3     25.00  female         0\n",
      "4      0.92    male         1\n",
      "...     ...     ...       ...\n",
      "1308  27.00    male         0\n",
      "1309  26.00    male         0\n",
      "1310  22.00    male         0\n",
      "1311  24.00    male         0\n",
      "1312  29.00    male         0\n",
      "\n",
      "[1313 rows x 3 columns]\n",
      "Type of extracted data is >>>>  <class 'pandas.core.frame.DataFrame'>\n",
      "shape of data we extracted includes >>>>  (1313, 3)\n"
     ]
    }
   ],
   "source": [
    "#if you want to have multiple data you need to choose it withing a list so that look at the number of [] in code:\n",
    "\n",
    "print(Data[['Age', 'Sex', 'Survived']]) \n",
    "\n",
    "#because we choose a list so type is DataFrame:\n",
    "print('Type of extracted data is >>>> ', type(Data[['Age', 'Sex', 'Survived']]))\n",
    "print('shape of data we extracted includes >>>> ', Data[['Age', 'Sex', 'Survived']].shape)"
   ]
  },
  {
   "cell_type": "code",
   "execution_count": 36,
   "metadata": {},
   "outputs": [
    {
     "name": "stdout",
     "output_type": "stream",
     "text": [
      "      Unnamed: 0                                           Name PClass   Age  \\\n",
      "0              1                   Allen, Miss Elisabeth Walton    1st  29.0   \n",
      "2              3            Allison, Mr Hudson Joshua Creighton    1st  30.0   \n",
      "3              4  Allison, Mrs Hudson JC (Bessie Waldo Daniels)    1st  25.0   \n",
      "5              6                             Anderson, Mr Harry    1st  47.0   \n",
      "6              7               Andrews, Miss Kornelia Theodosia    1st  63.0   \n",
      "...          ...                                            ...    ...   ...   \n",
      "1301        1302                        Wittevrongel, Mr Camiel    3rd  36.0   \n",
      "1303        1304                             Yasbeck, Mr Antoni    3rd  27.0   \n",
      "1308        1309                             Zakarian, Mr Artun    3rd  27.0   \n",
      "1309        1310                         Zakarian, Mr Maprieder    3rd  26.0   \n",
      "1312        1313                                 Zimmerman, Leo    3rd  29.0   \n",
      "\n",
      "         Sex  Survived  SexCode  \n",
      "0     female         1        1  \n",
      "2       male         0        0  \n",
      "3     female         0        1  \n",
      "5       male         1        0  \n",
      "6     female         1        1  \n",
      "...      ...       ...      ...  \n",
      "1301    male         0        0  \n",
      "1303    male         0        0  \n",
      "1308    male         0        0  \n",
      "1309    male         0        0  \n",
      "1312    male         0        0  \n",
      "\n",
      "[468 rows x 7 columns]\n"
     ]
    }
   ],
   "source": [
    "#lets try something better:\n",
    "#assume we want all passengers with age of more than 24 so age > 24:\n",
    "above_24 = Data[Data['Age'] > 24] #here we have a boolean data:\n",
    "#take care if you want to see table you need to use Data[data...]\n",
    "print(above_24)"
   ]
  },
  {
   "cell_type": "code",
   "execution_count": 38,
   "metadata": {},
   "outputs": [
    {
     "name": "stdout",
     "output_type": "stream",
     "text": [
      "      Unnamed: 0                                           Name PClass   Age  \\\n",
      "0              1                   Allen, Miss Elisabeth Walton    1st  29.0   \n",
      "1              2                    Allison, Miss Helen Loraine    1st   2.0   \n",
      "3              4  Allison, Mrs Hudson JC (Bessie Waldo Daniels)    1st  25.0   \n",
      "6              7               Andrews, Miss Kornelia Theodosia    1st  63.0   \n",
      "8              9   Appleton, Mrs Edward Dale (Charlotte Lamson)    1st  58.0   \n",
      "...          ...                                            ...    ...   ...   \n",
      "1283        1284            Vestrom, Miss Hulda Amanda Adolfina    3rd  14.0   \n",
      "1293        1294                              Wilkes, Mrs Ellen    3rd  45.0   \n",
      "1304        1305                            Yasbeck, Mrs Antoni    3rd  15.0   \n",
      "1306        1307                            Zabour, Miss Hileni    3rd   NaN   \n",
      "1307        1308                            Zabour, Miss Tamini    3rd   NaN   \n",
      "\n",
      "         Sex  Survived  SexCode  \n",
      "0     female         1        1  \n",
      "1     female         0        1  \n",
      "3     female         0        1  \n",
      "6     female         1        1  \n",
      "8     female         1        1  \n",
      "...      ...       ...      ...  \n",
      "1283  female         0        1  \n",
      "1293  female         1        1  \n",
      "1304  female         1        1  \n",
      "1306  female         0        1  \n",
      "1307  female         0        1  \n",
      "\n",
      "[462 rows x 7 columns]\n"
     ]
    }
   ],
   "source": [
    "#lets choose another :\n",
    "print(Data[Data['Sex'] == 'female'])"
   ]
  },
  {
   "cell_type": "code",
   "execution_count": 50,
   "metadata": {},
   "outputs": [
    {
     "name": "stdout",
     "output_type": "stream",
     "text": [
      "      Unnamed: 0                        Name PClass   Age     Sex  Survived  \\\n",
      "322          323          Abelson, Mr Samuel    2nd  30.0    male         0   \n",
      "323          324  Abelson, Mrs Samuel (Anna)    2nd  28.0  female         1   \n",
      "324          325     Andrew, Mr Edgar Samuel    2nd  18.0    male         0   \n",
      "325          326            Andrew, Mr Frank    2nd   NaN    male         0   \n",
      "326          327         Angle, Mr William A    2nd  34.0    male         0   \n",
      "...          ...                         ...    ...   ...     ...       ...   \n",
      "1308        1309          Zakarian, Mr Artun    3rd  27.0    male         0   \n",
      "1309        1310      Zakarian, Mr Maprieder    3rd  26.0    male         0   \n",
      "1310        1311            Zenni, Mr Philip    3rd  22.0    male         0   \n",
      "1311        1312            Lievens, Mr Rene    3rd  24.0    male         0   \n",
      "1312        1313              Zimmerman, Leo    3rd  29.0    male         0   \n",
      "\n",
      "      SexCode  \n",
      "322         0  \n",
      "323         1  \n",
      "324         0  \n",
      "325         0  \n",
      "326         0  \n",
      "...       ...  \n",
      "1308        0  \n",
      "1309        0  \n",
      "1310        0  \n",
      "1311        0  \n",
      "1312        0  \n",
      "\n",
      "[990 rows x 7 columns]\n"
     ]
    }
   ],
   "source": [
    "#try to another:\n",
    "print(Data[Data['PClass'].isin(['2nd', '3rd'])])"
   ]
  },
  {
   "cell_type": "code",
   "execution_count": 52,
   "metadata": {},
   "outputs": [
    {
     "name": "stdout",
     "output_type": "stream",
     "text": [
      "      Unnamed: 0                        Name PClass   Age     Sex  Survived  \\\n",
      "322          323          Abelson, Mr Samuel    2nd  30.0    male         0   \n",
      "323          324  Abelson, Mrs Samuel (Anna)    2nd  28.0  female         1   \n",
      "324          325     Andrew, Mr Edgar Samuel    2nd  18.0    male         0   \n",
      "325          326            Andrew, Mr Frank    2nd   NaN    male         0   \n",
      "326          327         Angle, Mr William A    2nd  34.0    male         0   \n",
      "...          ...                         ...    ...   ...     ...       ...   \n",
      "1308        1309          Zakarian, Mr Artun    3rd  27.0    male         0   \n",
      "1309        1310      Zakarian, Mr Maprieder    3rd  26.0    male         0   \n",
      "1310        1311            Zenni, Mr Philip    3rd  22.0    male         0   \n",
      "1311        1312            Lievens, Mr Rene    3rd  24.0    male         0   \n",
      "1312        1313              Zimmerman, Leo    3rd  29.0    male         0   \n",
      "\n",
      "      SexCode  \n",
      "322         0  \n",
      "323         1  \n",
      "324         0  \n",
      "325         0  \n",
      "326         0  \n",
      "...       ...  \n",
      "1308        0  \n",
      "1309        0  \n",
      "1310        0  \n",
      "1311        0  \n",
      "1312        0  \n",
      "\n",
      "[990 rows x 7 columns]\n"
     ]
    }
   ],
   "source": [
    "#we can have above code in another way:\n",
    "print(Data[(Data['PClass'] == '2nd') | (Data['PClass'] == '3rd')])"
   ]
  },
  {
   "cell_type": "code",
   "execution_count": 53,
   "metadata": {},
   "outputs": [
    {
     "name": "stdout",
     "output_type": "stream",
     "text": [
      "      Unnamed: 0                                           Name PClass    Age  \\\n",
      "0              1                   Allen, Miss Elisabeth Walton    1st  29.00   \n",
      "1              2                    Allison, Miss Helen Loraine    1st   2.00   \n",
      "2              3            Allison, Mr Hudson Joshua Creighton    1st  30.00   \n",
      "3              4  Allison, Mrs Hudson JC (Bessie Waldo Daniels)    1st  25.00   \n",
      "4              5                  Allison, Master Hudson Trevor    1st   0.92   \n",
      "...          ...                                            ...    ...    ...   \n",
      "1308        1309                             Zakarian, Mr Artun    3rd  27.00   \n",
      "1309        1310                         Zakarian, Mr Maprieder    3rd  26.00   \n",
      "1310        1311                               Zenni, Mr Philip    3rd  22.00   \n",
      "1311        1312                               Lievens, Mr Rene    3rd  24.00   \n",
      "1312        1313                                 Zimmerman, Leo    3rd  29.00   \n",
      "\n",
      "         Sex  Survived  SexCode  \n",
      "0     female         1        1  \n",
      "1     female         0        1  \n",
      "2       male         0        0  \n",
      "3     female         0        1  \n",
      "4       male         1        0  \n",
      "...      ...       ...      ...  \n",
      "1308    male         0        0  \n",
      "1309    male         0        0  \n",
      "1310    male         0        0  \n",
      "1311    male         0        0  \n",
      "1312    male         0        0  \n",
      "\n",
      "[756 rows x 7 columns]\n"
     ]
    }
   ],
   "source": [
    "#as it can be seen, some data is NAN for example age: let's work and choose thoose without NaN\n",
    "\n",
    "print(Data[Data['Age'].notna()])"
   ]
  },
  {
   "cell_type": "code",
   "execution_count": 54,
   "metadata": {},
   "outputs": [
    {
     "name": "stdout",
     "output_type": "stream",
     "text": [
      "      Unnamed: 0                                 Name PClass   Age     Sex  \\\n",
      "0              1         Allen, Miss Elisabeth Walton    1st  29.0  female   \n",
      "2              3  Allison, Mr Hudson Joshua Creighton    1st  30.0    male   \n",
      "5              6                   Anderson, Mr Harry    1st  47.0    male   \n",
      "6              7     Andrews, Miss Kornelia Theodosia    1st  63.0  female   \n",
      "7              8               Andrews, Mr Thomas, jr    1st  39.0    male   \n",
      "...          ...                                  ...    ...   ...     ...   \n",
      "1301        1302              Wittevrongel, Mr Camiel    3rd  36.0    male   \n",
      "1303        1304                   Yasbeck, Mr Antoni    3rd  27.0    male   \n",
      "1308        1309                   Zakarian, Mr Artun    3rd  27.0    male   \n",
      "1309        1310               Zakarian, Mr Maprieder    3rd  26.0    male   \n",
      "1312        1313                       Zimmerman, Leo    3rd  29.0    male   \n",
      "\n",
      "      Survived  SexCode  \n",
      "0            1        1  \n",
      "2            0        0  \n",
      "5            1        0  \n",
      "6            1        1  \n",
      "7            0        0  \n",
      "...        ...      ...  \n",
      "1301         0        0  \n",
      "1303         0        0  \n",
      "1308         0        0  \n",
      "1309         0        0  \n",
      "1312         0        0  \n",
      "\n",
      "[445 rows x 7 columns]\n"
     ]
    }
   ],
   "source": [
    "#to have two conditions together you can mix them:\n",
    "age_nan = Data[Data['Age'].notna()]  #this define NaNs\n",
    "age_above_25 = age_nan[age_nan['Age'] > 25] #this defines above 25 from None_NaNs\n",
    "print(age_above_25)\n"
   ]
  },
  {
   "cell_type": "code",
   "execution_count": 63,
   "metadata": {},
   "outputs": [
    {
     "name": "stdout",
     "output_type": "stream",
     "text": [
      "0              Allen, Miss Elisabeth Walton\n",
      "2       Allison, Mr Hudson Joshua Creighton\n",
      "5                        Anderson, Mr Harry\n",
      "6          Andrews, Miss Kornelia Theodosia\n",
      "7                    Andrews, Mr Thomas, jr\n",
      "                       ...                 \n",
      "1291             Widegren, Mr Charles Peter\n",
      "1293                      Wilkes, Mrs Ellen\n",
      "1297                    Williams, Mr Leslie\n",
      "1301                Wittevrongel, Mr Camiel\n",
      "1312                         Zimmerman, Leo\n",
      "Name: Name, Length: 394, dtype: object\n",
      "To check names by index shown in the left >>>>  Allen, Miss Elisabeth Walton\n"
     ]
    }
   ],
   "source": [
    "#lets try to have adults name which their age is more than 27\n",
    "\n",
    "#we use loc[] command ((((if don't remember check first toturial and second))))\n",
    "\n",
    "#############################################\n",
    "#     loc[filter, column Name]\n",
    "# The format of loc function\n",
    "#################################################\n",
    "Adult_name =  Data.loc[Data['Age'] > 27, \"Name\"]\n",
    "print(Adult_name)\n",
    "print('To check names by index shown in the left >>>> ', Adult_name[0])\n",
    "\n",
    "#now you can see the index of it:\n"
   ]
  },
  {
   "cell_type": "code",
   "execution_count": 69,
   "metadata": {},
   "outputs": [
    {
     "name": "stdout",
     "output_type": "stream",
     "text": [
      "Int64Index([   0,    2,    5,    6,    7,    8,    9,   10,   15,   17,\n",
      "            ...\n",
      "            1275, 1277, 1278, 1281, 1282, 1291, 1293, 1297, 1301, 1312],\n",
      "           dtype='int64', length=394)\n",
      "let's check the person with index 1281 >>>  Vendel, Mr Olof Wdvin\n"
     ]
    }
   ],
   "source": [
    "#to check the index numbers:\n",
    "print(Adult_name.index)\n",
    "print(\"let's check the person with index 1281 >>> \", Adult_name[1281])"
   ]
  },
  {
   "cell_type": "code",
   "execution_count": 71,
   "metadata": {},
   "outputs": [
    {
     "name": "stdout",
     "output_type": "stream",
     "text": [
      "   PClass   Age     Sex  Survived\n",
      "9     1st  71.0    male         0\n",
      "10    1st  47.0    male         0\n",
      "11    1st  19.0  female         1\n",
      "12    1st   NaN  female         1\n",
      "13    1st   NaN    male         1\n",
      "14    1st   NaN    male         0\n",
      "15    1st  50.0  female         1\n",
      "16    1st  24.0    male         0\n",
      "17    1st  36.0    male         0\n",
      "18    1st  37.0    male         1\n",
      "19    1st  47.0  female         1\n",
      "20    1st  26.0    male         1\n",
      "21    1st  25.0    male         0\n",
      "22    1st  25.0    male         1\n",
      "23    1st  19.0  female         1\n",
      "24    1st  28.0    male         1\n",
      "25    1st  45.0    male         0\n"
     ]
    }
   ],
   "source": [
    "#let's choose rows from 10 to 25 and columns of 3 to 5\n",
    "#now we are working with INT (numbers) so we need iloc\n",
    "#remember indexes starting with 0\n",
    "\n",
    "print(Data.iloc[9:26, 2:6])\n",
    "\n",
    "\n"
   ]
  },
  {
   "cell_type": "code",
   "execution_count": 73,
   "metadata": {},
   "outputs": [
    {
     "name": "stdout",
     "output_type": "stream",
     "text": [
      "   Unnamed: 0                                           Name PClass    Age  \\\n",
      "0           1                   Allen, Miss Elisabeth Walton    1st  29.00   \n",
      "1           2                    Allison, Miss Helen Loraine    1st   2.00   \n",
      "2           3            Allison, Mr Hudson Joshua Creighton    1st  30.00   \n",
      "3           4  Allison, Mrs Hudson JC (Bessie Waldo Daniels)    1st  25.00   \n",
      "4           5                  Allison, Master Hudson Trevor    1st   0.92   \n",
      "\n",
      "      Sex  Survived  SexCode  \n",
      "0  female         1        1  \n",
      "1  female         0        1  \n",
      "2    male         0        0  \n",
      "3  female         0        1  \n",
      "4    male         1        0  \n"
     ]
    }
   ],
   "source": [
    "#as you remember assign()\n",
    "#if you want to assign some data to a specific place:\n",
    "print(Data.head())"
   ]
  },
  {
   "cell_type": "code",
   "execution_count": 75,
   "metadata": {},
   "outputs": [
    {
     "name": "stdout",
     "output_type": "stream",
     "text": [
      "      Unnamed: 0                                           Name PClass    Age  \\\n",
      "0              1                                    John Pandas    1st  29.00   \n",
      "1              2                    Allison, Miss Helen Loraine    1st   2.00   \n",
      "2              3            Allison, Mr Hudson Joshua Creighton    1st  30.00   \n",
      "3              4  Allison, Mrs Hudson JC (Bessie Waldo Daniels)    1st  25.00   \n",
      "4              5                  Allison, Master Hudson Trevor    1st   0.92   \n",
      "...          ...                                            ...    ...    ...   \n",
      "1308        1309                             Zakarian, Mr Artun    3rd  27.00   \n",
      "1309        1310                         Zakarian, Mr Maprieder    3rd  26.00   \n",
      "1310        1311                               Zenni, Mr Philip    3rd  22.00   \n",
      "1311        1312                               Lievens, Mr Rene    3rd  24.00   \n",
      "1312        1313                                 Zimmerman, Leo    3rd  29.00   \n",
      "\n",
      "         Sex  Survived  SexCode  \n",
      "0     female         1        1  \n",
      "1     female         0        1  \n",
      "2       male         0        0  \n",
      "3     female         0        1  \n",
      "4       male         1        0  \n",
      "...      ...       ...      ...  \n",
      "1308    male         0        0  \n",
      "1309    male         0        0  \n",
      "1310    male         0        0  \n",
      "1311    male         0        0  \n",
      "1312    male         0        0  \n",
      "\n",
      "[1313 rows x 7 columns]\n"
     ]
    }
   ],
   "source": [
    "#for example I want to change the first name to \"John Pandas\"\n",
    "Data.iloc[0, 1] = 'John Pandas'\n",
    "print(Data)\n",
    "#now the first person has been changed to John Pandas "
   ]
  }
 ],
 "metadata": {
  "interpreter": {
   "hash": "02dd58cfc0df4ad19eeedf013046337a7ff38a07b36bc06f7955acd89b740cfb"
  },
  "kernelspec": {
   "display_name": "Python 3.10.2 64-bit",
   "language": "python",
   "name": "python3"
  },
  "language_info": {
   "codemirror_mode": {
    "name": "ipython",
    "version": 3
   },
   "file_extension": ".py",
   "mimetype": "text/x-python",
   "name": "python",
   "nbconvert_exporter": "python",
   "pygments_lexer": "ipython3",
   "version": "3.10.2"
  },
  "orig_nbformat": 4
 },
 "nbformat": 4,
 "nbformat_minor": 2
}
