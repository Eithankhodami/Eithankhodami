{
 "cells": [
  {
   "cell_type": "code",
   "execution_count": 1,
   "metadata": {},
   "outputs": [],
   "source": [
    "import pandas as pd"
   ]
  },
  {
   "cell_type": "code",
   "execution_count": null,
   "metadata": {},
   "outputs": [],
   "source": [
    "#missing data is always (mostly) happens in data collection, this data has to be worked and dealt with.\n",
    "#missing data causes error in data analysis or causes mistakes in calculation "
   ]
  },
  {
   "cell_type": "code",
   "execution_count": 10,
   "metadata": {},
   "outputs": [
    {
     "data": {
      "text/html": [
       "<div>\n",
       "<style scoped>\n",
       "    .dataframe tbody tr th:only-of-type {\n",
       "        vertical-align: middle;\n",
       "    }\n",
       "\n",
       "    .dataframe tbody tr th {\n",
       "        vertical-align: top;\n",
       "    }\n",
       "\n",
       "    .dataframe thead th {\n",
       "        text-align: right;\n",
       "    }\n",
       "</style>\n",
       "<table border=\"1\" class=\"dataframe\">\n",
       "  <thead>\n",
       "    <tr style=\"text-align: right;\">\n",
       "      <th></th>\n",
       "      <th>Name</th>\n",
       "      <th>Gender</th>\n",
       "      <th>Grade</th>\n",
       "      <th>Exam-Mark</th>\n",
       "      <th>Next addmission</th>\n",
       "      <th>Next level</th>\n",
       "    </tr>\n",
       "  </thead>\n",
       "  <tbody>\n",
       "    <tr>\n",
       "      <th>0</th>\n",
       "      <td>John</td>\n",
       "      <td>Male</td>\n",
       "      <td>5</td>\n",
       "      <td>70.0</td>\n",
       "      <td>N</td>\n",
       "      <td>Y</td>\n",
       "    </tr>\n",
       "    <tr>\n",
       "      <th>1</th>\n",
       "      <td>Ali</td>\n",
       "      <td>Male</td>\n",
       "      <td>5</td>\n",
       "      <td>80.0</td>\n",
       "      <td>Y</td>\n",
       "      <td>Y</td>\n",
       "    </tr>\n",
       "    <tr>\n",
       "      <th>2</th>\n",
       "      <td>Wak</td>\n",
       "      <td>Male</td>\n",
       "      <td>5</td>\n",
       "      <td>87.0</td>\n",
       "      <td>NaN</td>\n",
       "      <td>N</td>\n",
       "    </tr>\n",
       "    <tr>\n",
       "      <th>3</th>\n",
       "      <td>Dem</td>\n",
       "      <td>Female</td>\n",
       "      <td>6</td>\n",
       "      <td>NaN</td>\n",
       "      <td>Y</td>\n",
       "      <td>na</td>\n",
       "    </tr>\n",
       "    <tr>\n",
       "      <th>4</th>\n",
       "      <td>Louise</td>\n",
       "      <td>NaN</td>\n",
       "      <td>0</td>\n",
       "      <td>78.0</td>\n",
       "      <td>Y</td>\n",
       "      <td>N</td>\n",
       "    </tr>\n",
       "    <tr>\n",
       "      <th>5</th>\n",
       "      <td>Johna</td>\n",
       "      <td>Female</td>\n",
       "      <td>6</td>\n",
       "      <td>20.0</td>\n",
       "      <td>N</td>\n",
       "      <td>N</td>\n",
       "    </tr>\n",
       "    <tr>\n",
       "      <th>6</th>\n",
       "      <td>Reda</td>\n",
       "      <td>Female</td>\n",
       "      <td>na</td>\n",
       "      <td>12.0</td>\n",
       "      <td>N</td>\n",
       "      <td>N</td>\n",
       "    </tr>\n",
       "    <tr>\n",
       "      <th>7</th>\n",
       "      <td>Walki</td>\n",
       "      <td>NaN</td>\n",
       "      <td>5</td>\n",
       "      <td>NaN</td>\n",
       "      <td>Y</td>\n",
       "      <td>N</td>\n",
       "    </tr>\n",
       "    <tr>\n",
       "      <th>8</th>\n",
       "      <td>Sess</td>\n",
       "      <td>Male</td>\n",
       "      <td>5</td>\n",
       "      <td>15.0</td>\n",
       "      <td>N</td>\n",
       "      <td>N</td>\n",
       "    </tr>\n",
       "    <tr>\n",
       "      <th>9</th>\n",
       "      <td>NaN</td>\n",
       "      <td>NaN</td>\n",
       "      <td>NaN</td>\n",
       "      <td>12.0</td>\n",
       "      <td>NaN</td>\n",
       "      <td>N</td>\n",
       "    </tr>\n",
       "  </tbody>\n",
       "</table>\n",
       "</div>"
      ],
      "text/plain": [
       "     Name  Gender Grade  Exam-Mark Next addmission Next level\n",
       "0    John    Male     5       70.0               N          Y\n",
       "1     Ali    Male     5       80.0               Y          Y\n",
       "2     Wak    Male     5       87.0             NaN          N\n",
       "3     Dem  Female     6        NaN               Y         na\n",
       "4  Louise     NaN     0       78.0               Y          N\n",
       "5   Johna  Female     6       20.0               N          N\n",
       "6    Reda  Female    na       12.0               N          N\n",
       "7   Walki     NaN     5        NaN               Y          N\n",
       "8    Sess    Male     5       15.0               N          N\n",
       "9     NaN     NaN   NaN       12.0             NaN          N"
      ]
     },
     "execution_count": 10,
     "metadata": {},
     "output_type": "execute_result"
    }
   ],
   "source": [
    "pd.read_csv('data-missing.csv')\n",
    "\n",
    "#as you can see we have some data which are  missing and this is a problem for further steps\n",
    "#missing data can be different thisnks:\n",
    "# 0 is kinda missing data for me in this toturial\n",
    "# na is a missing data for mean\n",
    "# NaN is missing dataset\n",
    "#now that I have a group of missing data, I can already define what are my missing data in which column\n"
   ]
  },
  {
   "cell_type": "code",
   "execution_count": 14,
   "metadata": {},
   "outputs": [
    {
     "data": {
      "text/html": [
       "<div>\n",
       "<style scoped>\n",
       "    .dataframe tbody tr th:only-of-type {\n",
       "        vertical-align: middle;\n",
       "    }\n",
       "\n",
       "    .dataframe tbody tr th {\n",
       "        vertical-align: top;\n",
       "    }\n",
       "\n",
       "    .dataframe thead th {\n",
       "        text-align: right;\n",
       "    }\n",
       "</style>\n",
       "<table border=\"1\" class=\"dataframe\">\n",
       "  <thead>\n",
       "    <tr style=\"text-align: right;\">\n",
       "      <th></th>\n",
       "      <th>Name</th>\n",
       "      <th>Gender</th>\n",
       "      <th>Grade</th>\n",
       "      <th>Exam-Mark</th>\n",
       "      <th>Next addmission</th>\n",
       "      <th>Next level</th>\n",
       "    </tr>\n",
       "  </thead>\n",
       "  <tbody>\n",
       "    <tr>\n",
       "      <th>0</th>\n",
       "      <td>John</td>\n",
       "      <td>Male</td>\n",
       "      <td>5.0</td>\n",
       "      <td>70.0</td>\n",
       "      <td>N</td>\n",
       "      <td>Y</td>\n",
       "    </tr>\n",
       "    <tr>\n",
       "      <th>1</th>\n",
       "      <td>Ali</td>\n",
       "      <td>Male</td>\n",
       "      <td>5.0</td>\n",
       "      <td>80.0</td>\n",
       "      <td>Y</td>\n",
       "      <td>Y</td>\n",
       "    </tr>\n",
       "    <tr>\n",
       "      <th>2</th>\n",
       "      <td>Wak</td>\n",
       "      <td>Male</td>\n",
       "      <td>5.0</td>\n",
       "      <td>87.0</td>\n",
       "      <td>NaN</td>\n",
       "      <td>N</td>\n",
       "    </tr>\n",
       "    <tr>\n",
       "      <th>3</th>\n",
       "      <td>Dem</td>\n",
       "      <td>Female</td>\n",
       "      <td>6.0</td>\n",
       "      <td>NaN</td>\n",
       "      <td>Y</td>\n",
       "      <td>NaN</td>\n",
       "    </tr>\n",
       "    <tr>\n",
       "      <th>4</th>\n",
       "      <td>Louise</td>\n",
       "      <td>NaN</td>\n",
       "      <td>NaN</td>\n",
       "      <td>78.0</td>\n",
       "      <td>Y</td>\n",
       "      <td>N</td>\n",
       "    </tr>\n",
       "    <tr>\n",
       "      <th>5</th>\n",
       "      <td>Johna</td>\n",
       "      <td>Female</td>\n",
       "      <td>6.0</td>\n",
       "      <td>20.0</td>\n",
       "      <td>N</td>\n",
       "      <td>N</td>\n",
       "    </tr>\n",
       "    <tr>\n",
       "      <th>6</th>\n",
       "      <td>Reda</td>\n",
       "      <td>Female</td>\n",
       "      <td>NaN</td>\n",
       "      <td>12.0</td>\n",
       "      <td>N</td>\n",
       "      <td>N</td>\n",
       "    </tr>\n",
       "    <tr>\n",
       "      <th>7</th>\n",
       "      <td>Walki</td>\n",
       "      <td>NaN</td>\n",
       "      <td>5.0</td>\n",
       "      <td>NaN</td>\n",
       "      <td>Y</td>\n",
       "      <td>N</td>\n",
       "    </tr>\n",
       "    <tr>\n",
       "      <th>8</th>\n",
       "      <td>Sess</td>\n",
       "      <td>Male</td>\n",
       "      <td>5.0</td>\n",
       "      <td>15.0</td>\n",
       "      <td>N</td>\n",
       "      <td>N</td>\n",
       "    </tr>\n",
       "    <tr>\n",
       "      <th>9</th>\n",
       "      <td>NaN</td>\n",
       "      <td>NaN</td>\n",
       "      <td>NaN</td>\n",
       "      <td>12.0</td>\n",
       "      <td>NaN</td>\n",
       "      <td>N</td>\n",
       "    </tr>\n",
       "  </tbody>\n",
       "</table>\n",
       "</div>"
      ],
      "text/plain": [
       "     Name  Gender  Grade  Exam-Mark Next addmission Next level\n",
       "0    John    Male    5.0       70.0               N          Y\n",
       "1     Ali    Male    5.0       80.0               Y          Y\n",
       "2     Wak    Male    5.0       87.0             NaN          N\n",
       "3     Dem  Female    6.0        NaN               Y        NaN\n",
       "4  Louise     NaN    NaN       78.0               Y          N\n",
       "5   Johna  Female    6.0       20.0               N          N\n",
       "6    Reda  Female    NaN       12.0               N          N\n",
       "7   Walki     NaN    5.0        NaN               Y          N\n",
       "8    Sess    Male    5.0       15.0               N          N\n",
       "9     NaN     NaN    NaN       12.0             NaN          N"
      ]
     },
     "execution_count": 14,
     "metadata": {},
     "output_type": "execute_result"
    }
   ],
   "source": [
    "#lets read again and see how to define missing ndict_values\n",
    "pd.read_csv('data-missing.csv', na_values={'Grade': ['na', 0] ,'Next level':['na']})\n",
    "\n",
    "#notes\n",
    "#NaN data is already predefined, so not needed to be mentioned\n",
    "#missing values are shown by dictionaries\n",
    "#as always, take care of lower, and upper case variable names"
   ]
  },
  {
   "cell_type": "code",
   "execution_count": 17,
   "metadata": {},
   "outputs": [],
   "source": [
    "#another easier way to have mission values is to make a list of possible missing formats and use the list\n",
    "\n",
    "missing_vals = ['na', 'NA', '', 0]\n",
    "\n",
    "data_missing = pd.read_csv('data-missing.csv', na_values = missing_vals)"
   ]
  },
  {
   "cell_type": "code",
   "execution_count": 18,
   "metadata": {},
   "outputs": [
    {
     "name": "stdout",
     "output_type": "stream",
     "text": [
      "    Name  Gender  Grade  Exam-Mark Next addmission Next level\n",
      "0   John    Male    5.0       70.0               N          Y\n",
      "1    Ali    Male    5.0       80.0               Y          Y\n",
      "5  Johna  Female    6.0       20.0               N          N\n",
      "8   Sess    Male    5.0       15.0               N          N\n"
     ]
    }
   ],
   "source": [
    "#there are two main ways to deal with missing data:\n",
    "# 1. remove row/rows of missing data\n",
    "# 2. filling with a specific data that matched (can be anything)\n",
    "\n",
    "#TO DELETE:\n",
    "print(data_missing.dropna(axis = 0, inplace = False, how = 'any'))\n",
    "# axis >> 0 =  row and 1 = column\n",
    "# inplace >> True >> apply to current dataframe ; False = 'new dataframe\n",
    "#how >> all > a place where all data is missing  ; any > where you see any missing data"
   ]
  },
  {
   "cell_type": "code",
   "execution_count": 19,
   "metadata": {},
   "outputs": [
    {
     "name": "stdout",
     "output_type": "stream",
     "text": [
      "     Name  Gender  Grade  Exam-Mark Next addmission Next level\n",
      "0    John    Male    5.0       70.0               N          Y\n",
      "1     Ali    Male    5.0       80.0               Y          Y\n",
      "2     Wak    Male    5.0       87.0             NaN          N\n",
      "3     Dem  Female    6.0        NaN               Y        NaN\n",
      "4  Louise     NaN    NaN       78.0               Y          N\n",
      "5   Johna  Female    6.0       20.0               N          N\n",
      "6    Reda  Female    NaN       12.0               N          N\n",
      "7   Walki     NaN    5.0        NaN               Y          N\n",
      "8    Sess    Male    5.0       15.0               N          N\n",
      "9     NaN     NaN    NaN       12.0             NaN          N\n"
     ]
    }
   ],
   "source": [
    "print(data_missing.dropna(axis = 1, inplace = False, how = 'all'))"
   ]
  },
  {
   "cell_type": "code",
   "execution_count": 24,
   "metadata": {},
   "outputs": [
    {
     "name": "stdout",
     "output_type": "stream",
     "text": [
      "    Name  Gender  Grade  Exam-Mark Next addmission Next level\n",
      "0   John    Male    5.0       70.0               N          Y\n",
      "1    Ali    Male    5.0       80.0               Y          Y\n",
      "5  Johna  Female    6.0       20.0               N          N\n",
      "8   Sess    Male    5.0       15.0               N          N\n"
     ]
    }
   ],
   "source": [
    "print(data_missing.dropna(axis = 0, inplace = False, how = 'any'))\n"
   ]
  },
  {
   "cell_type": "code",
   "execution_count": 25,
   "metadata": {},
   "outputs": [
    {
     "name": "stdout",
     "output_type": "stream",
     "text": [
      "Empty DataFrame\n",
      "Columns: []\n",
      "Index: [0, 1, 2, 3, 4, 5, 6, 7, 8, 9]\n"
     ]
    }
   ],
   "source": [
    "#look at the code and answer why this code returns empty result\n",
    "print(data_missing.dropna(axis = 1, inplace = False, how = 'any'))\n"
   ]
  },
  {
   "cell_type": "markdown",
   "metadata": {},
   "source": [
    "answer:\n",
    "as the code shows we are working on '1 > columns' and also we asked for 'any' so that all columns have at least a missing data"
   ]
  },
  {
   "cell_type": "code",
   "execution_count": null,
   "metadata": {},
   "outputs": [],
   "source": [
    "#another way to deal with missing data is filling, \n",
    "#there are a lot of ways dealing for example:\n",
    "#ask to refill with mean or median   >> numeric data \n",
    "#define a specific number, or value to be sit in the missing value\n",
    "#define Nan with data before/after its cell  > fill forward, fill backward\n",
    "\n"
   ]
  },
  {
   "cell_type": "code",
   "execution_count": 35,
   "metadata": {},
   "outputs": [
    {
     "name": "stdout",
     "output_type": "stream",
     "text": [
      "     Name  Gender  Grade  Exam-Mark Next addmission Next level\n",
      "0    John    Male    5.0      70.00               N          Y\n",
      "1     Ali    Male    5.0      80.00               Y          Y\n",
      "2     Wak    Male    5.0      87.00             NaN          N\n",
      "3     Dem  Female    6.0      46.75               Y        NaN\n",
      "4  Louise     NaN    5.0      78.00               Y          N\n",
      "5   Johna  Female    6.0      20.00               N          N\n",
      "6    Reda  Female    5.0      12.00               N          N\n",
      "7   Walki     NaN    5.0      46.75               Y          N\n",
      "8    Sess    Male    5.0      15.00               N          N\n",
      "9     NaN     NaN    5.0      12.00             NaN          N\n"
     ]
    }
   ],
   "source": [
    "#using median or mean:\n",
    "data_missing['Grade'].fillna(data_missing['Grade'].median(), inplace = False)\n",
    "print(data_missing)"
   ]
  },
  {
   "cell_type": "code",
   "execution_count": 34,
   "metadata": {},
   "outputs": [
    {
     "name": "stdout",
     "output_type": "stream",
     "text": [
      "     Name  Gender  Grade  Exam-Mark Next addmission Next level\n",
      "0    John    Male    5.0      70.00               N          Y\n",
      "1     Ali    Male    5.0      80.00               Y          Y\n",
      "2     Wak    Male    5.0      87.00             NaN          N\n",
      "3     Dem  Female    6.0      46.75               Y        NaN\n",
      "4  Louise     NaN    5.0      78.00               Y          N\n",
      "5   Johna  Female    6.0      20.00               N          N\n",
      "6    Reda  Female    5.0      12.00               N          N\n",
      "7   Walki     NaN    5.0      46.75               Y          N\n",
      "8    Sess    Male    5.0      15.00               N          N\n",
      "9     NaN     NaN    5.0      12.00             NaN          N\n"
     ]
    }
   ],
   "source": [
    "data_missing['Exam-Mark'].fillna(data_missing['Exam-Mark'].mean(), inplace = False)\n",
    "print(data_missing)"
   ]
  },
  {
   "cell_type": "code",
   "execution_count": 36,
   "metadata": {},
   "outputs": [
    {
     "name": "stdout",
     "output_type": "stream",
     "text": [
      "     Name  Gender  Grade  Exam-Mark Next addmission Next level\n",
      "0    John    Male    5.0      70.00               N          Y\n",
      "1     Ali    Male    5.0      80.00               Y          Y\n",
      "2     Wak    Male    5.0      87.00             NaN          N\n",
      "3     Dem  Female    6.0      46.75               Y        NaN\n",
      "4  Louise     NaN    5.0      78.00               Y          N\n",
      "5   Johna  Female    6.0      20.00               N          N\n",
      "6    Reda  Female    5.0      12.00               N          N\n",
      "7   Walki     NaN    5.0      46.75               Y          N\n",
      "8    Sess    Male    5.0      15.00               N          N\n",
      "9     NaN     NaN    5.0      12.00             NaN          N\n"
     ]
    }
   ],
   "source": [
    "#to fill with a constant number\n",
    "data_missing['Exam-Mark'].fillna(12, inplace = False)\n",
    "print(data_missing)"
   ]
  },
  {
   "cell_type": "code",
   "execution_count": 40,
   "metadata": {},
   "outputs": [
    {
     "name": "stdout",
     "output_type": "stream",
     "text": [
      "     Name  Gender  Grade  Exam-Mark Next addmission Next level\n",
      "0    John    Male    5.0      70.00               N          Y\n",
      "1     Ali    Male    5.0      80.00               Y          Y\n",
      "2     Wak    Male    5.0      87.00             NaN          N\n",
      "3     Dem  Female    6.0      46.75               Y        NaN\n",
      "4  Louise    Male    5.0      78.00               Y          N\n",
      "5   Johna  Female    6.0      20.00               N          N\n",
      "6    Reda  Female    5.0      12.00               N          N\n",
      "7   Walki    Male    5.0      46.75               Y          N\n",
      "8    Sess    Male    5.0      15.00               N          N\n",
      "9     NaN    Male    5.0      12.00             NaN          N\n"
     ]
    }
   ],
   "source": []
  },
  {
   "cell_type": "code",
   "execution_count": 46,
   "metadata": {},
   "outputs": [
    {
     "name": "stdout",
     "output_type": "stream",
     "text": [
      "     Name  Gender  Grade  Exam-Mark Next addmission Next level\n",
      "0    John    Male    5.0       70.0               N          Y\n",
      "1     Ali    Male    5.0       80.0               Y          Y\n",
      "2     Wak    Male    5.0       87.0             NaN          N\n",
      "3     Dem  Female    6.0      999.0               Y        NaN\n",
      "4  Louise     NaN    NaN       78.0               Y          N\n",
      "5   Johna  Female    6.0       20.0               N          N\n",
      "6    Reda  Female    NaN       12.0               N          N\n",
      "7   Walki     NaN    5.0      999.0               Y          N\n",
      "8    Sess    Male    5.0       15.0               N          N\n",
      "9     NaN     NaN    NaN       12.0             NaN          N\n"
     ]
    }
   ],
   "source": [
    "#I recall data all time to see how does it look\n",
    "\n",
    "####################################################33\n",
    "#This is because in VSCODE users inplace = Flase shows data in another way different than Jupyter notebook\n",
    "#If you are using Jupyter notebook, you don't need to import all time\n",
    "###################################################33\n",
    "\n",
    "missing_vals = ['na', 'NA', '', 0]\n",
    "Data_2 = pd.read_csv('data-missing.csv', na_values = missing_vals)\n",
    "Data_2['Exam-Mark'].fillna(999, inplace = True)\n",
    "print(Data_2)\n"
   ]
  },
  {
   "cell_type": "code",
   "execution_count": 47,
   "metadata": {},
   "outputs": [
    {
     "name": "stdout",
     "output_type": "stream",
     "text": [
      "     Name  Gender  Grade  Exam-Mark Next addmission Next level\n",
      "0    John    Male    5.0       70.0               N          Y\n",
      "1     Ali    Male    5.0       80.0               Y          Y\n",
      "2     Wak    Male    5.0       87.0             NaN          N\n",
      "3     Dem  Female    6.0       87.0               Y        NaN\n",
      "4  Louise     NaN    NaN       78.0               Y          N\n",
      "5   Johna  Female    6.0       20.0               N          N\n",
      "6    Reda  Female    NaN       12.0               N          N\n",
      "7   Walki     NaN    5.0       12.0               Y          N\n",
      "8    Sess    Male    5.0       15.0               N          N\n",
      "9     NaN     NaN    NaN       12.0             NaN          N\n"
     ]
    }
   ],
   "source": [
    "missing_vals = ['na', 'NA', '', 0]\n",
    "Data_3 = pd.read_csv('data-missing.csv', na_values = missing_vals)\n",
    "Data_3['Exam-Mark'].fillna(method = 'ffill', inplace = True)  #filling with forward\n",
    "print(Data_3)"
   ]
  },
  {
   "cell_type": "code",
   "execution_count": 48,
   "metadata": {},
   "outputs": [
    {
     "name": "stdout",
     "output_type": "stream",
     "text": [
      "     Name  Gender  Grade  Exam-Mark Next addmission Next level\n",
      "0    John    Male    5.0       70.0               N          Y\n",
      "1     Ali    Male    5.0       80.0               Y          Y\n",
      "2     Wak    Male    5.0       87.0             NaN          N\n",
      "3     Dem  Female    6.0       78.0               Y        NaN\n",
      "4  Louise     NaN    NaN       78.0               Y          N\n",
      "5   Johna  Female    6.0       20.0               N          N\n",
      "6    Reda  Female    NaN       12.0               N          N\n",
      "7   Walki     NaN    5.0       15.0               Y          N\n",
      "8    Sess    Male    5.0       15.0               N          N\n",
      "9     NaN     NaN    NaN       12.0             NaN          N\n"
     ]
    }
   ],
   "source": [
    "missing_vals = ['na', 'NA', '', 0]\n",
    "Data_4 = pd.read_csv('data-missing.csv', na_values = missing_vals)\n",
    "Data_4['Exam-Mark'].fillna(method = 'bfill', inplace = True)   #filling with Backward\n",
    "print(Data_4)"
   ]
  },
  {
   "cell_type": "code",
   "execution_count": 59,
   "metadata": {},
   "outputs": [
    {
     "name": "stdout",
     "output_type": "stream",
     "text": [
      "     Name  Gender  Grade  Exam-Mark Next addmission Next level\n",
      "0    John    Male    5.0       70.0               N          Y\n",
      "1     Ali    Male    5.0       80.0               Y          Y\n",
      "2     Wak    Male    5.0       87.0             NaN          N\n",
      "3     Dem  Female    6.0       82.5               Y        NaN\n",
      "4  Louise     NaN    NaN       78.0               Y          N\n",
      "5   Johna  Female    6.0       20.0               N          N\n",
      "6    Reda  Female    NaN       12.0               N          N\n",
      "7   Walki     NaN    5.0       13.5               Y          N\n",
      "8    Sess    Male    5.0       15.0               N          N\n",
      "9     NaN     NaN    NaN       12.0             NaN          N\n"
     ]
    }
   ],
   "source": [
    "#another way to deal with missing data is to use interpolate :\n",
    "\n",
    "# read more: https://numpy.org/doc/stable/reference/generated/numpy.interp.html\n",
    "\n",
    "missing_vals = ['na', 'NA', '', 0]\n",
    "Data_5 = pd.read_csv('data-missing.csv', na_values = missing_vals)\n",
    "Data_5['Exam-Mark'].interpolate(method = 'linear', inplace = True)\n",
    "    #filling with Backward)\n",
    "print(Data_5)\n",
    "#this method uses a mathematical equition, you can read more about it in math "
   ]
  },
  {
   "cell_type": "code",
   "execution_count": 65,
   "metadata": {},
   "outputs": [
    {
     "name": "stdout",
     "output_type": "stream",
     "text": [
      "     Name  Gender  Grade  Exam-Mark Next addmission Next level\n",
      "0    John    Male    5.0       70.0               N          Y\n",
      "1     Ali    Male    5.0       80.0               Y          Y\n",
      "2     Wak    Male    5.0       87.0             NaN          N\n",
      "3     Dem  Female    6.0        NaN               Y        NaN\n",
      "4  Louise     NaN    6.0       78.0               Y          N\n",
      "5   Johna  Female    6.0       20.0               N          N\n",
      "6    Reda  Female    6.0       12.0               N          N\n",
      "7   Walki     NaN    5.0        NaN               Y          N\n",
      "8    Sess    Male    5.0       15.0               N          N\n",
      "9     NaN     NaN    NaN       12.0             NaN          N\n"
     ]
    }
   ],
   "source": [
    "missing_vals = ['na', 'NA', '', 0]\n",
    "Data_6 = pd.read_csv('data-missing.csv', na_values = missing_vals)\n",
    "Data_6['Grade'].interpolate(method = 'polynomial', order = 0, inplace = True)\n",
    "print(Data_6)"
   ]
  }
 ],
 "metadata": {
  "interpreter": {
   "hash": "02dd58cfc0df4ad19eeedf013046337a7ff38a07b36bc06f7955acd89b740cfb"
  },
  "kernelspec": {
   "display_name": "Python 3.10.2 64-bit",
   "language": "python",
   "name": "python3"
  },
  "language_info": {
   "codemirror_mode": {
    "name": "ipython",
    "version": 3
   },
   "file_extension": ".py",
   "mimetype": "text/x-python",
   "name": "python",
   "nbconvert_exporter": "python",
   "pygments_lexer": "ipython3",
   "version": "3.10.2"
  },
  "orig_nbformat": 4
 },
 "nbformat": 4,
 "nbformat_minor": 2
}
