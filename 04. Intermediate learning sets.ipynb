{
 "metadata": {
  "language_info": {
   "codemirror_mode": {
    "name": "ipython",
    "version": 3
   },
   "file_extension": ".py",
   "mimetype": "text/x-python",
   "name": "python",
   "nbconvert_exporter": "python",
   "pygments_lexer": "ipython3",
   "version": "3.8.0"
  },
  "orig_nbformat": 2,
  "kernelspec": {
   "name": "python380jvsc74a57bd02fa617a35824ebf3cdda57a5f51b1bae8dabb4c113331f9087f830c93348a51c",
   "display_name": "Python 3.8.0 64-bit"
  }
 },
 "nbformat": 4,
 "nbformat_minor": 2,
 "cells": [
  {
   "cell_type": "code",
   "execution_count": 2,
   "metadata": {},
   "outputs": [
    {
     "output_type": "stream",
     "name": "stdout",
     "text": [
      "{'baby', 2, 3, 'a', 4, 'hot', 'd'}\n"
     ]
    }
   ],
   "source": [
    "#sets are group of elements which can be mutable, edited, but does not allowed doublicate data\n",
    "#sets as dictionaries are placed in between {} but instead of dictionary, they don't need key value\n",
    "myset = {'a', 2, 3, 4, 'd' , 'baby', 'hot'}\n",
    "print(myset)"
   ]
  },
  {
   "cell_type": "code",
   "execution_count": 3,
   "metadata": {},
   "outputs": [
    {
     "output_type": "stream",
     "name": "stdout",
     "text": [
      "{1, 2, 3, 4, 5, 7}\n"
     ]
    }
   ],
   "source": [
    "#if in a set we repeat an element it won't be showed:\n",
    "myset_2 = {1, 2, 3, 4, 5, 1, 2, 3, 1, 1, 1, 1, 2, 3, 2, 3, 7}\n",
    "print(myset_2)"
   ]
  },
  {
   "cell_type": "code",
   "execution_count": 4,
   "metadata": {},
   "outputs": [
    {
     "output_type": "stream",
     "name": "stdout",
     "text": [
      "{'o', 'l', 'e', 'H'}\n"
     ]
    }
   ],
   "source": [
    "#we can also use set() function to create a set AND:\n",
    "#sets are onrdered, it means in the set order is not important\n",
    "myset2 = set(\"Hello\")\n",
    "print(myset2)\n",
    "\n"
   ]
  },
  {
   "cell_type": "code",
   "execution_count": 5,
   "metadata": {},
   "outputs": [],
   "source": [
    "#set are good commands to know how many different characters are in an element"
   ]
  },
  {
   "cell_type": "code",
   "execution_count": 6,
   "metadata": {},
   "outputs": [
    {
     "output_type": "stream",
     "name": "stdout",
     "text": [
      "<class 'dict'>\n<class 'set'>\n"
     ]
    }
   ],
   "source": [
    "#to create an empty set we have to use just set() command, because myset = {} makes a dictionary\n",
    "\n",
    "mysetN = {}\n",
    "print(type(mysetN))\n",
    "\n",
    "myset_Empty = set()\n",
    "print(type(myset_Empty))\n"
   ]
  },
  {
   "cell_type": "code",
   "execution_count": 7,
   "metadata": {},
   "outputs": [
    {
     "output_type": "stream",
     "name": "stdout",
     "text": [
      "{1, 2, 3}\n"
     ]
    }
   ],
   "source": [
    "#to add an element sue .add() command\n",
    "\n",
    "myset = set()\n",
    "\n",
    "myset.add(1)\n",
    "myset.add(2)\n",
    "myset.add(3)\n",
    "\n",
    "print(myset)"
   ]
  },
  {
   "cell_type": "code",
   "execution_count": 8,
   "metadata": {},
   "outputs": [
    {
     "output_type": "stream",
     "name": "stdout",
     "text": [
      "{1, 2}\n"
     ]
    }
   ],
   "source": [
    "#to remove an element from a set use .remove() command\n",
    "\n",
    "myset.remove(3)\n",
    "print(myset)"
   ]
  },
  {
   "cell_type": "code",
   "execution_count": 9,
   "metadata": {},
   "outputs": [
    {
     "output_type": "error",
     "ename": "KeyError",
     "evalue": "4",
     "traceback": [
      "\u001b[1;31m---------------------------------------------------------------------------\u001b[0m",
      "\u001b[1;31mKeyError\u001b[0m                                  Traceback (most recent call last)",
      "\u001b[1;32m<ipython-input-9-38bc19a7d170>\u001b[0m in \u001b[0;36m<module>\u001b[1;34m\u001b[0m\n\u001b[0;32m      1\u001b[0m \u001b[1;31m#remove an element which is not in the set, returns KeyError!\u001b[0m\u001b[1;33m\u001b[0m\u001b[1;33m\u001b[0m\u001b[1;33m\u001b[0m\u001b[0m\n\u001b[0;32m      2\u001b[0m \u001b[1;33m\u001b[0m\u001b[0m\n\u001b[1;32m----> 3\u001b[1;33m \u001b[0mmyset\u001b[0m\u001b[1;33m.\u001b[0m\u001b[0mremove\u001b[0m\u001b[1;33m(\u001b[0m\u001b[1;36m4\u001b[0m\u001b[1;33m)\u001b[0m\u001b[1;33m\u001b[0m\u001b[1;33m\u001b[0m\u001b[0m\n\u001b[0m\u001b[0;32m      4\u001b[0m \u001b[0mprint\u001b[0m\u001b[1;33m(\u001b[0m\u001b[0mmyset\u001b[0m\u001b[1;33m)\u001b[0m\u001b[1;33m\u001b[0m\u001b[1;33m\u001b[0m\u001b[0m\n",
      "\u001b[1;31mKeyError\u001b[0m: 4"
     ]
    }
   ],
   "source": [
    "#remove an element which is not in the set, returns KeyError!\n",
    "\n",
    "myset.remove(4)\n",
    "print(myset)"
   ]
  },
  {
   "cell_type": "code",
   "execution_count": 18,
   "metadata": {},
   "outputs": [
    {
     "output_type": "stream",
     "name": "stdout",
     "text": [
      "{1, 2, 3, 4, 5, 6, 7}\n{1, 2, 3, 4, 5, 7}\n"
     ]
    }
   ],
   "source": [
    "#another methods is about to use .discard methods which if there will be not an element, no error return\n",
    "\n",
    "myset_3 = {1, 2, 3, 4, 5, 6, 7}\n",
    "print(myset_3)\n",
    "myset_3.discard(6)\n",
    "myset_3.discard(8)  #does not exist, but discard does not show error\n",
    "print(myset_3)\n"
   ]
  },
  {
   "cell_type": "code",
   "execution_count": 22,
   "metadata": {},
   "outputs": [
    {
     "output_type": "stream",
     "name": "stdout",
     "text": [
      "set()\n"
     ]
    }
   ],
   "source": [
    "#to clear a set use .clear method\n",
    "myset_3.clear()\n",
    "print(myset_3)"
   ]
  },
  {
   "cell_type": "code",
   "execution_count": 27,
   "metadata": {},
   "outputs": [
    {
     "output_type": "stream",
     "name": "stdout",
     "text": [
      "1\n{67, 5}\n"
     ]
    }
   ],
   "source": [
    "# .pop command also works, it takes out 1 element and eleminate it from  the set\n",
    "\n",
    "myset_3.add(1)\n",
    "myset_3.add(5)\n",
    "myset_3.add(67)\n",
    "\n",
    "print(myset_3.pop())   #pop choose an arbitrary element and elemitae it. \n",
    "print(myset_3)\n"
   ]
  },
  {
   "cell_type": "code",
   "execution_count": 28,
   "metadata": {},
   "outputs": [
    {
     "output_type": "stream",
     "name": "stdout",
     "text": [
      "67\n5\n"
     ]
    }
   ],
   "source": [
    "#as always we can use for, if, ... abour set too\n",
    "for i in myset_3:\n",
    "    print(i)"
   ]
  },
  {
   "cell_type": "code",
   "execution_count": 29,
   "metadata": {},
   "outputs": [
    {
     "output_type": "stream",
     "name": "stdout",
     "text": [
      "yes\n"
     ]
    }
   ],
   "source": [
    "if 5 in myset_3:\n",
    "    print(\"yes\")\n",
    "else:\n",
    "    print(\"no\")\n",
    "    "
   ]
  },
  {
   "cell_type": "code",
   "execution_count": 30,
   "metadata": {},
   "outputs": [
    {
     "output_type": "stream",
     "name": "stdout",
     "text": [
      "{1, 2, 3, 4, 5, 6, 7, 8, 9}\n"
     ]
    }
   ],
   "source": [
    "#union and intersection of some sets\"\n",
    "odd = {1, 3, 5, 7, 9}\n",
    "even = {2, 4, 6, 8}\n",
    "primes = {2, 3, 5, 7}\n",
    "#to do union we use xxx.union(yyy) means setx.union(sety)\n",
    "u = odd.union(even)\n",
    "print(u)\n"
   ]
  },
  {
   "cell_type": "code",
   "execution_count": 31,
   "metadata": {},
   "outputs": [
    {
     "output_type": "stream",
     "name": "stdout",
     "text": [
      "set()\n"
     ]
    }
   ],
   "source": [
    "#intersection command shows the element which is similar in two groups of elements\n",
    "i = odd.intersection(even)  #this return an empty set\n",
    "print(i)\n"
   ]
  },
  {
   "cell_type": "code",
   "execution_count": 32,
   "metadata": {},
   "outputs": [
    {
     "output_type": "stream",
     "name": "stdout",
     "text": [
      "{3, 5, 7}\n"
     ]
    }
   ],
   "source": [
    "o = odd.intersection(primes)\n",
    "print(o)"
   ]
  },
  {
   "cell_type": "code",
   "execution_count": 34,
   "metadata": {},
   "outputs": [
    {
     "output_type": "stream",
     "name": "stdout",
     "text": [
      "{4, 5, 6, 7, 8, 9}\n{43, 12, 13, 23}\n"
     ]
    }
   ],
   "source": [
    "#calculate differences between two sets:\n",
    "set_a = {1, 2, 3, 4, 5, 6, 7, 8, 9, 10}\n",
    "set_b = {1, 2, 3, 10, 12, 13, 23, 43}\n",
    "\n",
    "print (set_a.difference(set_b))\n",
    "#this returns elements which are not in set B\n",
    "\n",
    "print(set_b.difference(set_a))\n",
    "#this returns elements which are not in set A"
   ]
  },
  {
   "cell_type": "code",
   "execution_count": 36,
   "metadata": {},
   "outputs": [
    {
     "output_type": "stream",
     "name": "stdout",
     "text": [
      "{4, 5, 6, 7, 8, 9, 43, 12, 13, 23}\n"
     ]
    }
   ],
   "source": [
    "#.symmetric.difference is a command which returns elements which are not similar in both sets\n",
    "print(set_a.symmetric_difference(set_b))\n",
    "#elements are not similar in both a and b"
   ]
  },
  {
   "cell_type": "code",
   "execution_count": 39,
   "metadata": {},
   "outputs": [
    {
     "output_type": "stream",
     "name": "stdout",
     "text": [
      "{1, 2, 3, 4, 5, 6, 7, 8, 9, 10, 12, 13, 23, 43}\n"
     ]
    }
   ],
   "source": [
    "# set(X).update(sety) updates the set X by set Y\n",
    "set_a.update(set_b)\n",
    "print(set_a)"
   ]
  },
  {
   "cell_type": "code",
   "execution_count": 40,
   "metadata": {},
   "outputs": [
    {
     "output_type": "stream",
     "name": "stdout",
     "text": [
      "{1, 2, 3, 10, 43, 12, 13, 23}\n"
     ]
    }
   ],
   "source": [
    " #setX.intersection_update(SetY) keeps elements which are same in both sets\n",
    "\n",
    " set_a.intersection_update(set_b)\n",
    " print(set_a)\n",
    " "
   ]
  },
  {
   "cell_type": "code",
   "execution_count": 41,
   "metadata": {},
   "outputs": [
    {
     "output_type": "stream",
     "name": "stdout",
     "text": [
      "{4, 5, 6, 7, 8, 9}\n"
     ]
    }
   ],
   "source": [
    "# setX.difference_update(setY) removes mutual elements and keeps differences\n",
    "set_aa = {1, 2, 3, 4, 5, 6, 7, 8, 9}\n",
    "set_bb = {1, 2, 3, 10, 11, 12}\n",
    "\n",
    "set_aa.difference_update(set_bb)\n",
    "print(set_aa)\n"
   ]
  },
  {
   "cell_type": "code",
   "execution_count": 42,
   "metadata": {},
   "outputs": [
    {
     "output_type": "stream",
     "name": "stdout",
     "text": [
      "{4, 5, 6, 7, 8, 9, 10, 11, 12}\n"
     ]
    }
   ],
   "source": [
    "# setX.symmetric_difference_update(setY) removes mutual elements and keeps all other elements from both\n",
    "set_aa = {1, 2, 3, 4, 5, 6, 7, 8, 9}\n",
    "set_bb = {1, 2, 3, 10, 11, 12}\n",
    "\n",
    "set_aa.symmetric_difference_update(set_bb)\n",
    "#this does not take 1, 2, 3\n",
    "print(set_aa)\n"
   ]
  },
  {
   "cell_type": "code",
   "execution_count": 43,
   "metadata": {},
   "outputs": [
    {
     "output_type": "stream",
     "name": "stdout",
     "text": [
      "False\nTrue\n"
     ]
    }
   ],
   "source": [
    "# if we want to know if elements of setX is in the setY, we use setx.issubset(sety)\n",
    "set_aa = {1, 2, 3, 4, 5}\n",
    "set_bb = {1, 2, 3}\n",
    "\n",
    "print(set_aa.issubset(set_bb))\n",
    "#this reuturns False\n",
    "\n",
    "print(set_bb.issubset(set_aa))\n",
    "#this reutrns True"
   ]
  },
  {
   "cell_type": "code",
   "execution_count": 44,
   "metadata": {},
   "outputs": [
    {
     "output_type": "stream",
     "name": "stdout",
     "text": [
      "True\nFalse\n"
     ]
    }
   ],
   "source": [
    "## if we want to know if elements of setX is in the setY, we use setx.issubset(sety)\n",
    "        #if we want to make a reverse action we use .superset command\n",
    "set_aa = {1, 2, 3, 4, 5}\n",
    "set_bb = {1, 2, 3}\n",
    "\n",
    "print(set_aa.issuperset(set_bb))\n",
    "#this reuturns True\n",
    "\n",
    "print(set_bb.issuperset(set_aa))\n",
    "#this reutrns False"
   ]
  },
  {
   "cell_type": "code",
   "execution_count": 2,
   "metadata": {},
   "outputs": [
    {
     "output_type": "stream",
     "name": "stdout",
     "text": [
      "True\n"
     ]
    }
   ],
   "source": [
    "# setX.isdisdisjoint(setB) shows if two sets does not have any mutual elements in common\n",
    "\n",
    "set_12 = {1, 2, 3}\n",
    "set_13 = {4, 5, 6}\n",
    "\n",
    "print(set_12.isdisjoint(set_13))\n",
    "#this returns True\n"
   ]
  },
  {
   "cell_type": "code",
   "execution_count": 4,
   "metadata": {},
   "outputs": [
    {
     "output_type": "stream",
     "name": "stdout",
     "text": [
      "{4, 5, 6}\n{4, 5, 6}\n"
     ]
    }
   ],
   "source": [
    "#copy sets:\n",
    "#it is always better to not use set1 = set 2 because modifying cause changes in both\n",
    "#as other methods, use .copy methods.\n",
    "\n",
    "set_14 = set_13.copy()\n",
    "print(set_14)\n",
    "\n",
    "#another way is to use set(setX) command \n",
    "set14 = set(set_14)\n",
    "print(set14)\n",
    "#return is the same as .copy() command"
   ]
  },
  {
   "cell_type": "code",
   "execution_count": 5,
   "metadata": {},
   "outputs": [
    {
     "output_type": "stream",
     "name": "stdout",
     "text": [
      "frozenset({1, 2, 3, 5})\n"
     ]
    }
   ],
   "source": [
    "#frozen set: a immutable(not changeable set of a set)\n",
    "a = frozenset([1, 2, 3, 5])\n",
    "print(a)"
   ]
  },
  {
   "cell_type": "code",
   "execution_count": null,
   "metadata": {},
   "outputs": [],
   "source": [
    "#frozen set can not be changes so that .add() or .remove() or .append() or .pond() does not work. but still .union and other commands works"
   ]
  }
 ]
}